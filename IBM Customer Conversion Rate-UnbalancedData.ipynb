{
 "cells": [
  {
   "cell_type": "markdown",
   "metadata": {},
   "source": [
    "# IBM Customer Conversion Rate using Unbalanced Data\n",
    "### In this context, unbalanced data refers to classification problems where we have unequal instances for different classes. "
   ]
  },
  {
   "cell_type": "markdown",
   "metadata": {
    "colab_type": "text",
    "id": "DlbFDN8GzDID"
   },
   "source": [
    "## Import Librairies and Custom functions"
   ]
  },
  {
   "cell_type": "code",
   "execution_count": 96,
   "metadata": {
    "colab": {},
    "colab_type": "code",
    "id": "mpYruHSyoMYw"
   },
   "outputs": [],
   "source": [
    "import numpy as np\n",
    "import pandas as pd\n",
    "import matplotlib.pyplot as plt\n",
    "import seaborn as sns\n",
    "%matplotlib inline\n",
    "sns.set()\n",
    "\n",
    "pd.set_option('display.max_columns', 500)\n",
    "pd.set_option('display.max_rows', 500)\n",
    "\n",
    "from subprocess import check_output\n",
    "import warnings\n",
    "warnings.filterwarnings('ignore') \n",
    "import os"
   ]
  },
  {
   "cell_type": "markdown",
   "metadata": {},
   "source": [
    "# Load the Dataset"
   ]
  },
  {
   "cell_type": "code",
   "execution_count": 60,
   "metadata": {
    "colab": {},
    "colab_type": "code",
    "id": "TFEPJHyeonfS"
   },
   "outputs": [
    {
     "data": {
      "text/html": [
       "<div>\n",
       "<style scoped>\n",
       "    .dataframe tbody tr th:only-of-type {\n",
       "        vertical-align: middle;\n",
       "    }\n",
       "\n",
       "    .dataframe tbody tr th {\n",
       "        vertical-align: top;\n",
       "    }\n",
       "\n",
       "    .dataframe thead th {\n",
       "        text-align: right;\n",
       "    }\n",
       "</style>\n",
       "<table border=\"1\" class=\"dataframe\">\n",
       "  <thead>\n",
       "    <tr style=\"text-align: right;\">\n",
       "      <th></th>\n",
       "      <th>Customer</th>\n",
       "      <th>State</th>\n",
       "      <th>Customer Lifetime Value</th>\n",
       "      <th>Response</th>\n",
       "      <th>Coverage</th>\n",
       "      <th>Education</th>\n",
       "      <th>Effective To Date</th>\n",
       "      <th>EmploymentStatus</th>\n",
       "      <th>Gender</th>\n",
       "      <th>Income</th>\n",
       "      <th>Location Code</th>\n",
       "      <th>Marital Status</th>\n",
       "      <th>Monthly Premium Auto</th>\n",
       "      <th>Months Since Last Claim</th>\n",
       "      <th>Months Since Policy Inception</th>\n",
       "      <th>Number of Open Complaints</th>\n",
       "      <th>Number of Policies</th>\n",
       "      <th>Policy Type</th>\n",
       "      <th>Policy</th>\n",
       "      <th>Renew Offer Type</th>\n",
       "      <th>Sales Channel</th>\n",
       "      <th>Total Claim Amount</th>\n",
       "      <th>Vehicle Class</th>\n",
       "      <th>Vehicle Size</th>\n",
       "    </tr>\n",
       "  </thead>\n",
       "  <tbody>\n",
       "    <tr>\n",
       "      <th>0</th>\n",
       "      <td>BU79786</td>\n",
       "      <td>Washington</td>\n",
       "      <td>2763.519279</td>\n",
       "      <td>No</td>\n",
       "      <td>Basic</td>\n",
       "      <td>Bachelor</td>\n",
       "      <td>2/24/11</td>\n",
       "      <td>Employed</td>\n",
       "      <td>F</td>\n",
       "      <td>56274</td>\n",
       "      <td>Suburban</td>\n",
       "      <td>Married</td>\n",
       "      <td>69</td>\n",
       "      <td>32</td>\n",
       "      <td>5</td>\n",
       "      <td>0</td>\n",
       "      <td>1</td>\n",
       "      <td>Corporate Auto</td>\n",
       "      <td>Corporate L3</td>\n",
       "      <td>Offer1</td>\n",
       "      <td>Agent</td>\n",
       "      <td>384.811147</td>\n",
       "      <td>Two-Door Car</td>\n",
       "      <td>Medsize</td>\n",
       "    </tr>\n",
       "    <tr>\n",
       "      <th>1</th>\n",
       "      <td>QZ44356</td>\n",
       "      <td>Arizona</td>\n",
       "      <td>6979.535903</td>\n",
       "      <td>No</td>\n",
       "      <td>Extended</td>\n",
       "      <td>Bachelor</td>\n",
       "      <td>1/31/11</td>\n",
       "      <td>Unemployed</td>\n",
       "      <td>F</td>\n",
       "      <td>0</td>\n",
       "      <td>Suburban</td>\n",
       "      <td>Single</td>\n",
       "      <td>94</td>\n",
       "      <td>13</td>\n",
       "      <td>42</td>\n",
       "      <td>0</td>\n",
       "      <td>8</td>\n",
       "      <td>Personal Auto</td>\n",
       "      <td>Personal L3</td>\n",
       "      <td>Offer3</td>\n",
       "      <td>Agent</td>\n",
       "      <td>1131.464935</td>\n",
       "      <td>Four-Door Car</td>\n",
       "      <td>Medsize</td>\n",
       "    </tr>\n",
       "    <tr>\n",
       "      <th>2</th>\n",
       "      <td>AI49188</td>\n",
       "      <td>Nevada</td>\n",
       "      <td>12887.431650</td>\n",
       "      <td>No</td>\n",
       "      <td>Premium</td>\n",
       "      <td>Bachelor</td>\n",
       "      <td>2/19/11</td>\n",
       "      <td>Employed</td>\n",
       "      <td>F</td>\n",
       "      <td>48767</td>\n",
       "      <td>Suburban</td>\n",
       "      <td>Married</td>\n",
       "      <td>108</td>\n",
       "      <td>18</td>\n",
       "      <td>38</td>\n",
       "      <td>0</td>\n",
       "      <td>2</td>\n",
       "      <td>Personal Auto</td>\n",
       "      <td>Personal L3</td>\n",
       "      <td>Offer1</td>\n",
       "      <td>Agent</td>\n",
       "      <td>566.472247</td>\n",
       "      <td>Two-Door Car</td>\n",
       "      <td>Medsize</td>\n",
       "    </tr>\n",
       "    <tr>\n",
       "      <th>3</th>\n",
       "      <td>WW63253</td>\n",
       "      <td>California</td>\n",
       "      <td>7645.861827</td>\n",
       "      <td>No</td>\n",
       "      <td>Basic</td>\n",
       "      <td>Bachelor</td>\n",
       "      <td>1/20/11</td>\n",
       "      <td>Unemployed</td>\n",
       "      <td>M</td>\n",
       "      <td>0</td>\n",
       "      <td>Suburban</td>\n",
       "      <td>Married</td>\n",
       "      <td>106</td>\n",
       "      <td>18</td>\n",
       "      <td>65</td>\n",
       "      <td>0</td>\n",
       "      <td>7</td>\n",
       "      <td>Corporate Auto</td>\n",
       "      <td>Corporate L2</td>\n",
       "      <td>Offer1</td>\n",
       "      <td>Call Center</td>\n",
       "      <td>529.881344</td>\n",
       "      <td>SUV</td>\n",
       "      <td>Medsize</td>\n",
       "    </tr>\n",
       "    <tr>\n",
       "      <th>4</th>\n",
       "      <td>HB64268</td>\n",
       "      <td>Washington</td>\n",
       "      <td>2813.692575</td>\n",
       "      <td>No</td>\n",
       "      <td>Basic</td>\n",
       "      <td>Bachelor</td>\n",
       "      <td>2/3/11</td>\n",
       "      <td>Employed</td>\n",
       "      <td>M</td>\n",
       "      <td>43836</td>\n",
       "      <td>Rural</td>\n",
       "      <td>Single</td>\n",
       "      <td>73</td>\n",
       "      <td>12</td>\n",
       "      <td>44</td>\n",
       "      <td>0</td>\n",
       "      <td>1</td>\n",
       "      <td>Personal Auto</td>\n",
       "      <td>Personal L1</td>\n",
       "      <td>Offer1</td>\n",
       "      <td>Agent</td>\n",
       "      <td>138.130879</td>\n",
       "      <td>Four-Door Car</td>\n",
       "      <td>Medsize</td>\n",
       "    </tr>\n",
       "  </tbody>\n",
       "</table>\n",
       "</div>"
      ],
      "text/plain": [
       "  Customer       State  Customer Lifetime Value Response  Coverage Education  \\\n",
       "0  BU79786  Washington              2763.519279       No     Basic  Bachelor   \n",
       "1  QZ44356     Arizona              6979.535903       No  Extended  Bachelor   \n",
       "2  AI49188      Nevada             12887.431650       No   Premium  Bachelor   \n",
       "3  WW63253  California              7645.861827       No     Basic  Bachelor   \n",
       "4  HB64268  Washington              2813.692575       No     Basic  Bachelor   \n",
       "\n",
       "  Effective To Date EmploymentStatus Gender  Income Location Code  \\\n",
       "0           2/24/11         Employed      F   56274      Suburban   \n",
       "1           1/31/11       Unemployed      F       0      Suburban   \n",
       "2           2/19/11         Employed      F   48767      Suburban   \n",
       "3           1/20/11       Unemployed      M       0      Suburban   \n",
       "4            2/3/11         Employed      M   43836         Rural   \n",
       "\n",
       "  Marital Status  Monthly Premium Auto  Months Since Last Claim  \\\n",
       "0        Married                    69                       32   \n",
       "1         Single                    94                       13   \n",
       "2        Married                   108                       18   \n",
       "3        Married                   106                       18   \n",
       "4         Single                    73                       12   \n",
       "\n",
       "   Months Since Policy Inception  Number of Open Complaints  \\\n",
       "0                              5                          0   \n",
       "1                             42                          0   \n",
       "2                             38                          0   \n",
       "3                             65                          0   \n",
       "4                             44                          0   \n",
       "\n",
       "   Number of Policies     Policy Type        Policy Renew Offer Type  \\\n",
       "0                   1  Corporate Auto  Corporate L3           Offer1   \n",
       "1                   8   Personal Auto   Personal L3           Offer3   \n",
       "2                   2   Personal Auto   Personal L3           Offer1   \n",
       "3                   7  Corporate Auto  Corporate L2           Offer1   \n",
       "4                   1   Personal Auto   Personal L1           Offer1   \n",
       "\n",
       "  Sales Channel  Total Claim Amount  Vehicle Class Vehicle Size  \n",
       "0         Agent          384.811147   Two-Door Car      Medsize  \n",
       "1         Agent         1131.464935  Four-Door Car      Medsize  \n",
       "2         Agent          566.472247   Two-Door Car      Medsize  \n",
       "3   Call Center          529.881344            SUV      Medsize  \n",
       "4         Agent          138.130879  Four-Door Car      Medsize  "
      ]
     },
     "execution_count": 60,
     "metadata": {},
     "output_type": "execute_result"
    }
   ],
   "source": [
    "df = pd.read_csv('IBM Watson Marketing Customer Value Analysis.csv')\n",
    "df.head()"
   ]
  },
  {
   "cell_type": "code",
   "execution_count": 61,
   "metadata": {},
   "outputs": [
    {
     "data": {
      "text/plain": [
       "(9134, 24)"
      ]
     },
     "execution_count": 61,
     "metadata": {},
     "output_type": "execute_result"
    }
   ],
   "source": [
    "df.shape"
   ]
  },
  {
   "cell_type": "markdown",
   "metadata": {
    "colab_type": "text",
    "id": "fEBqp6pIp_qJ"
   },
   "source": [
    "# Exploratory Data Analysis"
   ]
  },
  {
   "cell_type": "markdown",
   "metadata": {
    "colab_type": "text",
    "id": "uwbUzu-C1ZIH"
   },
   "source": [
    "### Change the type of 'Response' observations from string to integer in order to facilitate the processing"
   ]
  },
  {
   "cell_type": "code",
   "execution_count": 62,
   "metadata": {
    "colab": {},
    "colab_type": "code",
    "id": "0mwf4df3rJJD"
   },
   "outputs": [
    {
     "data": {
      "text/html": [
       "<div>\n",
       "<style scoped>\n",
       "    .dataframe tbody tr th:only-of-type {\n",
       "        vertical-align: middle;\n",
       "    }\n",
       "\n",
       "    .dataframe tbody tr th {\n",
       "        vertical-align: top;\n",
       "    }\n",
       "\n",
       "    .dataframe thead th {\n",
       "        text-align: right;\n",
       "    }\n",
       "</style>\n",
       "<table border=\"1\" class=\"dataframe\">\n",
       "  <thead>\n",
       "    <tr style=\"text-align: right;\">\n",
       "      <th></th>\n",
       "      <th>Customer</th>\n",
       "      <th>State</th>\n",
       "      <th>Customer_Lifetime_Value</th>\n",
       "      <th>Response</th>\n",
       "      <th>Coverage</th>\n",
       "      <th>Education</th>\n",
       "      <th>Effective_To_Date</th>\n",
       "      <th>EmploymentStatus</th>\n",
       "      <th>Gender</th>\n",
       "      <th>Income</th>\n",
       "      <th>Location_Code</th>\n",
       "      <th>Marital_Status</th>\n",
       "      <th>Monthly_Premium_Auto</th>\n",
       "      <th>Months_Since_Last_Claim</th>\n",
       "      <th>Months_Since_Policy_Inception</th>\n",
       "      <th>Number_of_Open_Complaints</th>\n",
       "      <th>Number_of_Policies</th>\n",
       "      <th>Policy_Type</th>\n",
       "      <th>Policy</th>\n",
       "      <th>Renew_Offer_Type</th>\n",
       "      <th>Sales_Channel</th>\n",
       "      <th>Total_Claim_Amount</th>\n",
       "      <th>Vehicle_Class</th>\n",
       "      <th>Vehicle_Size</th>\n",
       "    </tr>\n",
       "  </thead>\n",
       "  <tbody>\n",
       "    <tr>\n",
       "      <th>0</th>\n",
       "      <td>BU79786</td>\n",
       "      <td>Washington</td>\n",
       "      <td>2763.519279</td>\n",
       "      <td>0</td>\n",
       "      <td>Basic</td>\n",
       "      <td>Bachelor</td>\n",
       "      <td>2/24/11</td>\n",
       "      <td>Employed</td>\n",
       "      <td>F</td>\n",
       "      <td>56274</td>\n",
       "      <td>Suburban</td>\n",
       "      <td>Married</td>\n",
       "      <td>69</td>\n",
       "      <td>32</td>\n",
       "      <td>5</td>\n",
       "      <td>0</td>\n",
       "      <td>1</td>\n",
       "      <td>Corporate Auto</td>\n",
       "      <td>Corporate L3</td>\n",
       "      <td>Offer1</td>\n",
       "      <td>Agent</td>\n",
       "      <td>384.811147</td>\n",
       "      <td>Two-Door Car</td>\n",
       "      <td>Medsize</td>\n",
       "    </tr>\n",
       "    <tr>\n",
       "      <th>1</th>\n",
       "      <td>QZ44356</td>\n",
       "      <td>Arizona</td>\n",
       "      <td>6979.535903</td>\n",
       "      <td>0</td>\n",
       "      <td>Extended</td>\n",
       "      <td>Bachelor</td>\n",
       "      <td>1/31/11</td>\n",
       "      <td>Unemployed</td>\n",
       "      <td>F</td>\n",
       "      <td>0</td>\n",
       "      <td>Suburban</td>\n",
       "      <td>Single</td>\n",
       "      <td>94</td>\n",
       "      <td>13</td>\n",
       "      <td>42</td>\n",
       "      <td>0</td>\n",
       "      <td>8</td>\n",
       "      <td>Personal Auto</td>\n",
       "      <td>Personal L3</td>\n",
       "      <td>Offer3</td>\n",
       "      <td>Agent</td>\n",
       "      <td>1131.464935</td>\n",
       "      <td>Four-Door Car</td>\n",
       "      <td>Medsize</td>\n",
       "    </tr>\n",
       "    <tr>\n",
       "      <th>2</th>\n",
       "      <td>AI49188</td>\n",
       "      <td>Nevada</td>\n",
       "      <td>12887.431650</td>\n",
       "      <td>0</td>\n",
       "      <td>Premium</td>\n",
       "      <td>Bachelor</td>\n",
       "      <td>2/19/11</td>\n",
       "      <td>Employed</td>\n",
       "      <td>F</td>\n",
       "      <td>48767</td>\n",
       "      <td>Suburban</td>\n",
       "      <td>Married</td>\n",
       "      <td>108</td>\n",
       "      <td>18</td>\n",
       "      <td>38</td>\n",
       "      <td>0</td>\n",
       "      <td>2</td>\n",
       "      <td>Personal Auto</td>\n",
       "      <td>Personal L3</td>\n",
       "      <td>Offer1</td>\n",
       "      <td>Agent</td>\n",
       "      <td>566.472247</td>\n",
       "      <td>Two-Door Car</td>\n",
       "      <td>Medsize</td>\n",
       "    </tr>\n",
       "    <tr>\n",
       "      <th>3</th>\n",
       "      <td>WW63253</td>\n",
       "      <td>California</td>\n",
       "      <td>7645.861827</td>\n",
       "      <td>0</td>\n",
       "      <td>Basic</td>\n",
       "      <td>Bachelor</td>\n",
       "      <td>1/20/11</td>\n",
       "      <td>Unemployed</td>\n",
       "      <td>M</td>\n",
       "      <td>0</td>\n",
       "      <td>Suburban</td>\n",
       "      <td>Married</td>\n",
       "      <td>106</td>\n",
       "      <td>18</td>\n",
       "      <td>65</td>\n",
       "      <td>0</td>\n",
       "      <td>7</td>\n",
       "      <td>Corporate Auto</td>\n",
       "      <td>Corporate L2</td>\n",
       "      <td>Offer1</td>\n",
       "      <td>Call Center</td>\n",
       "      <td>529.881344</td>\n",
       "      <td>SUV</td>\n",
       "      <td>Medsize</td>\n",
       "    </tr>\n",
       "    <tr>\n",
       "      <th>4</th>\n",
       "      <td>HB64268</td>\n",
       "      <td>Washington</td>\n",
       "      <td>2813.692575</td>\n",
       "      <td>0</td>\n",
       "      <td>Basic</td>\n",
       "      <td>Bachelor</td>\n",
       "      <td>2/3/11</td>\n",
       "      <td>Employed</td>\n",
       "      <td>M</td>\n",
       "      <td>43836</td>\n",
       "      <td>Rural</td>\n",
       "      <td>Single</td>\n",
       "      <td>73</td>\n",
       "      <td>12</td>\n",
       "      <td>44</td>\n",
       "      <td>0</td>\n",
       "      <td>1</td>\n",
       "      <td>Personal Auto</td>\n",
       "      <td>Personal L1</td>\n",
       "      <td>Offer1</td>\n",
       "      <td>Agent</td>\n",
       "      <td>138.130879</td>\n",
       "      <td>Four-Door Car</td>\n",
       "      <td>Medsize</td>\n",
       "    </tr>\n",
       "  </tbody>\n",
       "</table>\n",
       "</div>"
      ],
      "text/plain": [
       "  Customer       State  Customer_Lifetime_Value  Response  Coverage Education  \\\n",
       "0  BU79786  Washington              2763.519279         0     Basic  Bachelor   \n",
       "1  QZ44356     Arizona              6979.535903         0  Extended  Bachelor   \n",
       "2  AI49188      Nevada             12887.431650         0   Premium  Bachelor   \n",
       "3  WW63253  California              7645.861827         0     Basic  Bachelor   \n",
       "4  HB64268  Washington              2813.692575         0     Basic  Bachelor   \n",
       "\n",
       "  Effective_To_Date EmploymentStatus Gender  Income Location_Code  \\\n",
       "0           2/24/11         Employed      F   56274      Suburban   \n",
       "1           1/31/11       Unemployed      F       0      Suburban   \n",
       "2           2/19/11         Employed      F   48767      Suburban   \n",
       "3           1/20/11       Unemployed      M       0      Suburban   \n",
       "4            2/3/11         Employed      M   43836         Rural   \n",
       "\n",
       "  Marital_Status  Monthly_Premium_Auto  Months_Since_Last_Claim  \\\n",
       "0        Married                    69                       32   \n",
       "1         Single                    94                       13   \n",
       "2        Married                   108                       18   \n",
       "3        Married                   106                       18   \n",
       "4         Single                    73                       12   \n",
       "\n",
       "   Months_Since_Policy_Inception  Number_of_Open_Complaints  \\\n",
       "0                              5                          0   \n",
       "1                             42                          0   \n",
       "2                             38                          0   \n",
       "3                             65                          0   \n",
       "4                             44                          0   \n",
       "\n",
       "   Number_of_Policies     Policy_Type        Policy Renew_Offer_Type  \\\n",
       "0                   1  Corporate Auto  Corporate L3           Offer1   \n",
       "1                   8   Personal Auto   Personal L3           Offer3   \n",
       "2                   2   Personal Auto   Personal L3           Offer1   \n",
       "3                   7  Corporate Auto  Corporate L2           Offer1   \n",
       "4                   1   Personal Auto   Personal L1           Offer1   \n",
       "\n",
       "  Sales_Channel  Total_Claim_Amount  Vehicle_Class Vehicle_Size  \n",
       "0         Agent          384.811147   Two-Door Car      Medsize  \n",
       "1         Agent         1131.464935  Four-Door Car      Medsize  \n",
       "2         Agent          566.472247   Two-Door Car      Medsize  \n",
       "3   Call Center          529.881344            SUV      Medsize  \n",
       "4         Agent          138.130879  Four-Door Car      Medsize  "
      ]
     },
     "execution_count": 62,
     "metadata": {},
     "output_type": "execute_result"
    }
   ],
   "source": [
    "df.Response = df.Response.apply(lambda X : 0 if X == 'No' else 1)\n",
    "df.columns = df.columns.str.replace(' ','_')\n",
    "df.head()"
   ]
  },
  {
   "cell_type": "markdown",
   "metadata": {
    "colab": {
     "base_uri": "https://localhost:8080/",
     "height": 549
    },
    "colab_type": "code",
    "executionInfo": {
     "elapsed": 1938,
     "status": "ok",
     "timestamp": 1585314352353,
     "user": {
      "displayName": "jerome seillier",
      "photoUrl": "https://lh3.googleusercontent.com/a-/AOh14GihpJBQ6Tq4tRKpTCRGJkMirKNNmLg06aountruhg=s64",
      "userId": "00095233701872556527"
     },
     "user_tz": -60
    },
    "id": "1d0ztqfVFukS",
    "outputId": "921c4b1d-80cb-49ec-a0a2-cc6eb89e8424"
   },
   "source": [
    "### Any NULL values?"
   ]
  },
  {
   "cell_type": "code",
   "execution_count": 63,
   "metadata": {
    "colab": {
     "base_uri": "https://localhost:8080/",
     "height": 442
    },
    "colab_type": "code",
    "executionInfo": {
     "elapsed": 1929,
     "status": "ok",
     "timestamp": 1585314352355,
     "user": {
      "displayName": "jerome seillier",
      "photoUrl": "https://lh3.googleusercontent.com/a-/AOh14GihpJBQ6Tq4tRKpTCRGJkMirKNNmLg06aountruhg=s64",
      "userId": "00095233701872556527"
     },
     "user_tz": -60
    },
    "id": "fKVltu8ssgjR",
    "outputId": "a13458e8-b295-4e8f-c2a4-56d571bdc47f"
   },
   "outputs": [
    {
     "data": {
      "text/plain": [
       "Customer                         0\n",
       "State                            0\n",
       "Customer_Lifetime_Value          0\n",
       "Response                         0\n",
       "Coverage                         0\n",
       "Education                        0\n",
       "Effective_To_Date                0\n",
       "EmploymentStatus                 0\n",
       "Gender                           0\n",
       "Income                           0\n",
       "Location_Code                    0\n",
       "Marital_Status                   0\n",
       "Monthly_Premium_Auto             0\n",
       "Months_Since_Last_Claim          0\n",
       "Months_Since_Policy_Inception    0\n",
       "Number_of_Open_Complaints        0\n",
       "Number_of_Policies               0\n",
       "Policy_Type                      0\n",
       "Policy                           0\n",
       "Renew_Offer_Type                 0\n",
       "Sales_Channel                    0\n",
       "Total_Claim_Amount               0\n",
       "Vehicle_Class                    0\n",
       "Vehicle_Size                     0\n",
       "dtype: int64"
      ]
     },
     "execution_count": 63,
     "metadata": {},
     "output_type": "execute_result"
    }
   ],
   "source": [
    "df.isnull().sum()"
   ]
  },
  {
   "cell_type": "code",
   "execution_count": null,
   "metadata": {},
   "outputs": [],
   "source": []
  },
  {
   "cell_type": "markdown",
   "metadata": {
    "colab_type": "text",
    "id": "hQIeaVa66uHg"
   },
   "source": [
    "## Conversion Rate & Marketing Analysis"
   ]
  },
  {
   "cell_type": "markdown",
   "metadata": {
    "colab_type": "text",
    "id": "qOLy83IHfw1B"
   },
   "source": [
    "### Conversion Rate"
   ]
  },
  {
   "cell_type": "code",
   "execution_count": 64,
   "metadata": {
    "colab": {
     "base_uri": "https://localhost:8080/",
     "height": 34
    },
    "colab_type": "code",
    "executionInfo": {
     "elapsed": 1919,
     "status": "ok",
     "timestamp": 1585314352355,
     "user": {
      "displayName": "jerome seillier",
      "photoUrl": "https://lh3.googleusercontent.com/a-/AOh14GihpJBQ6Tq4tRKpTCRGJkMirKNNmLg06aountruhg=s64",
      "userId": "00095233701872556527"
     },
     "user_tz": -60
    },
    "id": "rvmEB5baxbjA",
    "outputId": "ec7887ae-094d-4654-b4ff-ded88c353465"
   },
   "outputs": [
    {
     "name": "stdout",
     "output_type": "stream",
     "text": [
      "Conversion Rate is 14.32%\n"
     ]
    }
   ],
   "source": [
    "converters = df[df.Response == 1]['Customer'].nunique()\n",
    "total = df['Customer'].nunique()\n",
    "conv_rate = converters/total\n",
    "print(\"Conversion Rate is {}%\".format(round(conv_rate*100, 2),'%'))"
   ]
  },
  {
   "cell_type": "code",
   "execution_count": null,
   "metadata": {},
   "outputs": [],
   "source": []
  },
  {
   "cell_type": "markdown",
   "metadata": {},
   "source": [
    "### Function to add percentage to plot"
   ]
  },
  {
   "cell_type": "code",
   "execution_count": 65,
   "metadata": {},
   "outputs": [],
   "source": [
    "def annot_plot(ax, w, h):                                    \n",
    "    ax.spines['top'].set_visible(False)\n",
    "    ax.spines['right'].set_visible(False)\n",
    "    for p in ax.patches:\n",
    "         ax.annotate(f\"{p.get_height() * 100 / df.shape[0]:.2f}%\", (p.get_x() + p.get_width() / 2., p.get_height()),\n",
    "         ha='center', va='center', fontsize=11, color='black', rotation=0, xytext=(0, 10),\n",
    "         textcoords='offset points')"
   ]
  },
  {
   "cell_type": "code",
   "execution_count": 66,
   "metadata": {
    "colab": {
     "base_uri": "https://localhost:8080/",
     "height": 289
    },
    "colab_type": "code",
    "executionInfo": {
     "elapsed": 1910,
     "status": "ok",
     "timestamp": 1585314352356,
     "user": {
      "displayName": "jerome seillier",
      "photoUrl": "https://lh3.googleusercontent.com/a-/AOh14GihpJBQ6Tq4tRKpTCRGJkMirKNNmLg06aountruhg=s64",
      "userId": "00095233701872556527"
     },
     "user_tz": -60
    },
    "id": "n5z-kj1Ug862",
    "outputId": "77800560-1dd7-445f-8066-618a4351d52e"
   },
   "outputs": [
    {
     "data": {
      "image/png": "[encoded data removed]",
      "text/plain": [
       "<Figure size 432x288 with 1 Axes>"
      ]
     },
     "metadata": {},
     "output_type": "display_data"
    }
   ],
   "source": [
    "ax = sns.countplot('Response', data = df)\n",
    "plt.ylabel('Total number of Response')\n",
    "annot_plot(ax, 0.08, 1)\n",
    "plt.show()"
   ]
  },
  {
   "cell_type": "markdown",
   "metadata": {
    "colab_type": "text",
    "id": "BG3a9Mtwf3Gx"
   },
   "source": [
    "## Marketing Analysis"
   ]
  },
  {
   "cell_type": "code",
   "execution_count": 67,
   "metadata": {},
   "outputs": [],
   "source": [
    "# Most of the Analysis is done in the IBM Customer_Marketing Jupyter Notebook"
   ]
  },
  {
   "cell_type": "code",
   "execution_count": null,
   "metadata": {},
   "outputs": [],
   "source": []
  },
  {
   "cell_type": "markdown",
   "metadata": {
    "colab_type": "text",
    "id": "3qy5-5q97uqM"
   },
   "source": [
    "## Total Claim Amount"
   ]
  },
  {
   "cell_type": "markdown",
   "metadata": {
    "colab_type": "text",
    "id": "0GjKXlTzQ24-"
   },
   "source": [
    "_This Boxplot for 'Total Claim Amount' variable, dots above the upper boundary could be suspected as Outliers. They represent values above 1.5 Interquartile range (IQR). However i choose to keep them as it is, cause these values are certainly no mistake_"
   ]
  },
  {
   "cell_type": "code",
   "execution_count": 68,
   "metadata": {
    "colab": {
     "base_uri": "https://localhost:8080/",
     "height": 394
    },
    "colab_type": "code",
    "executionInfo": {
     "elapsed": 3477,
     "status": "ok",
     "timestamp": 1585314354104,
     "user": {
      "displayName": "jerome seillier",
      "photoUrl": "https://lh3.googleusercontent.com/a-/AOh14GihpJBQ6Tq4tRKpTCRGJkMirKNNmLg06aountruhg=s64",
      "userId": "00095233701872556527"
     },
     "user_tz": -60
    },
    "id": "vs5H8bEDOSUq",
    "outputId": "30feea97-647a-4671-d4ce-c926268f573b"
   },
   "outputs": [
    {
     "data": {
      "image/png": "[encoded data removed]",
      "text/plain": [
       "<Figure size 864x432 with 1 Axes>"
      ]
     },
     "metadata": {},
     "output_type": "display_data"
    }
   ],
   "source": [
    "plt.figure(figsize = (12, 6))\n",
    "sns.boxplot(y = 'Total_Claim_Amount' , x = 'Response', data = df)\n",
    "plt.ylabel('Total Claim Amount')\n",
    "plt.show()"
   ]
  },
  {
   "cell_type": "code",
   "execution_count": null,
   "metadata": {},
   "outputs": [],
   "source": []
  },
  {
   "cell_type": "markdown",
   "metadata": {
    "colab_type": "text",
    "id": "of5-NRSo-56j"
   },
   "source": [
    "### Let's check that with a distplot for 'Total Claim Amount' distribution"
   ]
  },
  {
   "cell_type": "code",
   "execution_count": 69,
   "metadata": {
    "colab": {
     "base_uri": "https://localhost:8080/",
     "height": 302
    },
    "colab_type": "code",
    "executionInfo": {
     "elapsed": 3810,
     "status": "ok",
     "timestamp": 1585314354452,
     "user": {
      "displayName": "jerome seillier",
      "photoUrl": "https://lh3.googleusercontent.com/a-/AOh14GihpJBQ6Tq4tRKpTCRGJkMirKNNmLg06aountruhg=s64",
      "userId": "00095233701872556527"
     },
     "user_tz": -60
    },
    "id": "r78FrkBrfRB_",
    "outputId": "af828e43-5942-4999-e782-12c7931f5a2e"
   },
   "outputs": [
    {
     "data": {
      "text/plain": [
       "<matplotlib.axes._subplots.AxesSubplot at 0x1a1c876c50>"
      ]
     },
     "execution_count": 69,
     "metadata": {},
     "output_type": "execute_result"
    },
    {
     "data": {
      "image/png": "[encoded data removed]",
      "text/plain": [
       "<Figure size 432x288 with 1 Axes>"
      ]
     },
     "metadata": {},
     "output_type": "display_data"
    }
   ],
   "source": [
    "sns.distplot(df['Total_Claim_Amount'])"
   ]
  },
  {
   "cell_type": "code",
   "execution_count": 70,
   "metadata": {
    "colab": {},
    "colab_type": "code",
    "id": "Gg0h5QcMbVNz"
   },
   "outputs": [],
   "source": [
    "#Replace 'Total Claim Amount' outliers by mean\n",
    "#df['Total Claim Amount']=df['Total Claim Amount'].apply(lambda x:df['Total Claim Amount'].median() if x>1500 else x)"
   ]
  },
  {
   "cell_type": "code",
   "execution_count": null,
   "metadata": {},
   "outputs": [],
   "source": []
  },
  {
   "cell_type": "markdown",
   "metadata": {
    "colab_type": "text",
    "id": "9whdL5Dg-amz"
   },
   "source": [
    "## Income"
   ]
  },
  {
   "cell_type": "markdown",
   "metadata": {
    "colab_type": "text",
    "id": "67oBF_v5R7cz"
   },
   "source": [
    "_Box plot shows no outliers for 'Income', However the zero values are very suspiscious and represent  NaN rather than a accurate values_"
   ]
  },
  {
   "cell_type": "code",
   "execution_count": 71,
   "metadata": {
    "colab": {
     "base_uri": "https://localhost:8080/",
     "height": 394
    },
    "colab_type": "code",
    "executionInfo": {
     "elapsed": 3793,
     "status": "ok",
     "timestamp": 1585314354453,
     "user": {
      "displayName": "jerome seillier",
      "photoUrl": "https://lh3.googleusercontent.com/a-/AOh14GihpJBQ6Tq4tRKpTCRGJkMirKNNmLg06aountruhg=s64",
      "userId": "00095233701872556527"
     },
     "user_tz": -60
    },
    "id": "W1dpWzMPOnjJ",
    "outputId": "b78fe53a-5232-4920-ddbb-9fb767c470cb"
   },
   "outputs": [
    {
     "data": {
      "image/png": "[encoded data removed]",
      "text/plain": [
       "<Figure size 864x432 with 1 Axes>"
      ]
     },
     "metadata": {},
     "output_type": "display_data"
    }
   ],
   "source": [
    "plt.figure(figsize = (12, 6))\n",
    "sns.boxplot(y = 'Income' , x = 'Response', data = df)\n",
    "plt.ylabel('Income')\n",
    "plt.show()"
   ]
  },
  {
   "cell_type": "markdown",
   "metadata": {
    "colab_type": "text",
    "id": "HOLLNWL_AlIv"
   },
   "source": [
    "_These Zero values represent a significant proprotion in this dataset. we'll try to figure out how many_"
   ]
  },
  {
   "cell_type": "code",
   "execution_count": 72,
   "metadata": {
    "colab": {
     "base_uri": "https://localhost:8080/",
     "height": 313
    },
    "colab_type": "code",
    "executionInfo": {
     "elapsed": 4189,
     "status": "ok",
     "timestamp": 1585314354861,
     "user": {
      "displayName": "jerome seillier",
      "photoUrl": "https://lh3.googleusercontent.com/a-/AOh14GihpJBQ6Tq4tRKpTCRGJkMirKNNmLg06aountruhg=s64",
      "userId": "00095233701872556527"
     },
     "user_tz": -60
    },
    "id": "r-jDpDnxebfe",
    "outputId": "34229d60-2cfe-49d7-9780-5868dfadc398"
   },
   "outputs": [
    {
     "data": {
      "text/plain": [
       "<matplotlib.axes._subplots.AxesSubplot at 0x1a1cdf56d0>"
      ]
     },
     "execution_count": 72,
     "metadata": {},
     "output_type": "execute_result"
    },
    {
     "data": {
      "image/png": "[encoded data removed]",
      "text/plain": [
       "<Figure size 432x288 with 1 Axes>"
      ]
     },
     "metadata": {},
     "output_type": "display_data"
    }
   ],
   "source": [
    "sns.distplot(df['Income'])"
   ]
  },
  {
   "cell_type": "code",
   "execution_count": 73,
   "metadata": {
    "colab": {},
    "colab_type": "code",
    "id": "aqMyfi8xsNb9"
   },
   "outputs": [],
   "source": [
    "mask = df[df['Income'] == 0]"
   ]
  },
  {
   "cell_type": "code",
   "execution_count": 74,
   "metadata": {
    "colab": {
     "base_uri": "https://localhost:8080/",
     "height": 34
    },
    "colab_type": "code",
    "executionInfo": {
     "elapsed": 4171,
     "status": "ok",
     "timestamp": 1585314354863,
     "user": {
      "displayName": "jerome seillier",
      "photoUrl": "https://lh3.googleusercontent.com/a-/AOh14GihpJBQ6Tq4tRKpTCRGJkMirKNNmLg06aountruhg=s64",
      "userId": "00095233701872556527"
     },
     "user_tz": -60
    },
    "id": "aLzr0MjXXogK",
    "outputId": "c7555356-5697-49a9-ece1-8deb9c4b1cbe"
   },
   "outputs": [
    {
     "data": {
      "text/plain": [
       "(2317, 24)"
      ]
     },
     "execution_count": 74,
     "metadata": {},
     "output_type": "execute_result"
    }
   ],
   "source": [
    "mask.shape"
   ]
  },
  {
   "cell_type": "code",
   "execution_count": 75,
   "metadata": {
    "colab": {
     "base_uri": "https://localhost:8080/",
     "height": 34
    },
    "colab_type": "code",
    "executionInfo": {
     "elapsed": 4161,
     "status": "ok",
     "timestamp": 1585314354863,
     "user": {
      "displayName": "jerome seillier",
      "photoUrl": "https://lh3.googleusercontent.com/a-/AOh14GihpJBQ6Tq4tRKpTCRGJkMirKNNmLg06aountruhg=s64",
      "userId": "00095233701872556527"
     },
     "user_tz": -60
    },
    "id": "hK64B42R15yc",
    "outputId": "c58c45fd-a67a-4f2b-ca2d-000e58547201"
   },
   "outputs": [
    {
     "data": {
      "text/plain": [
       "25.366761550251805"
      ]
     },
     "execution_count": 75,
     "metadata": {},
     "output_type": "execute_result"
    }
   ],
   "source": [
    "(len(mask)/len(df))*100"
   ]
  },
  {
   "cell_type": "markdown",
   "metadata": {
    "colab_type": "text",
    "id": "47-S163y2IUL"
   },
   "source": [
    "25% of the dataset contains Income = 0. We need to replace this missing values by more accurate values.\n"
   ]
  },
  {
   "cell_type": "code",
   "execution_count": null,
   "metadata": {},
   "outputs": [],
   "source": []
  },
  {
   "cell_type": "markdown",
   "metadata": {
    "colab_type": "text",
    "id": "j1t50R31cy4S"
   },
   "source": [
    "## Correlation"
   ]
  },
  {
   "cell_type": "markdown",
   "metadata": {},
   "source": [
    "### Drop irrelevant variables"
   ]
  },
  {
   "cell_type": "code",
   "execution_count": 76,
   "metadata": {
    "colab": {},
    "colab_type": "code",
    "id": "DyRv5mDf2q3R"
   },
   "outputs": [],
   "source": [
    "df = df.drop(columns = {\"Customer\", \"Policy\", \"Effective_To_Date\"})"
   ]
  },
  {
   "cell_type": "markdown",
   "metadata": {},
   "source": [
    "### Define a list with all features which are categorial"
   ]
  },
  {
   "cell_type": "code",
   "execution_count": 77,
   "metadata": {
    "colab": {},
    "colab_type": "code",
    "id": "JwDYK3NOdI01"
   },
   "outputs": [],
   "source": [
    "df_categ = df.select_dtypes(include = [\"object\"])\n",
    "category = list(df_categ.columns)"
   ]
  },
  {
   "cell_type": "markdown",
   "metadata": {},
   "source": [
    "### Define a list with all features which are numerical"
   ]
  },
  {
   "cell_type": "code",
   "execution_count": 78,
   "metadata": {
    "colab": {},
    "colab_type": "code",
    "id": "20RQDkEOWAqI"
   },
   "outputs": [],
   "source": [
    "df_num = df.select_dtypes(exclude=[\"object\"])"
   ]
  },
  {
   "cell_type": "markdown",
   "metadata": {},
   "source": [
    "### Encode the categorial Data to numerical"
   ]
  },
  {
   "cell_type": "code",
   "execution_count": 83,
   "metadata": {
    "colab": {},
    "colab_type": "code",
    "id": "rykSqBPldPVV"
   },
   "outputs": [],
   "source": [
    "from sklearn.preprocessing import LabelEncoder\n",
    "\n",
    "lb = LabelEncoder()\n",
    "\n",
    "for i in category:\n",
    "    df[i] = lb.fit_transform(df[i])"
   ]
  },
  {
   "cell_type": "markdown",
   "metadata": {},
   "source": [
    "### Heatmap of the correlations"
   ]
  },
  {
   "cell_type": "code",
   "execution_count": 85,
   "metadata": {
    "colab": {
     "base_uri": "https://localhost:8080/",
     "height": 775
    },
    "colab_type": "code",
    "executionInfo": {
     "elapsed": 6515,
     "status": "ok",
     "timestamp": 1585314357283,
     "user": {
      "displayName": "jerome seillier",
      "photoUrl": "https://lh3.googleusercontent.com/a-/AOh14GihpJBQ6Tq4tRKpTCRGJkMirKNNmLg06aountruhg=s64",
      "userId": "00095233701872556527"
     },
     "user_tz": -60
    },
    "id": "GJSgXd0GUtcg",
    "outputId": "cbc49933-211a-44f6-f32a-e1630ace178a"
   },
   "outputs": [
    {
     "data": {
      "text/plain": [
       "<matplotlib.axes._subplots.AxesSubplot at 0x1a1b464cd0>"
      ]
     },
     "execution_count": 85,
     "metadata": {},
     "output_type": "execute_result"
    },
    {
     "data": {
      "image/png": "[encoded data removed]",
      "text/plain": [
       "<Figure size 1080x1080 with 2 Axes>"
      ]
     },
     "metadata": {},
     "output_type": "display_data"
    }
   ],
   "source": [
    "plt.figure(figsize = (15, 15))\n",
    "sns.heatmap(round(df.corr(), 2), annot = True)"
   ]
  },
  {
   "cell_type": "markdown",
   "metadata": {
    "colab_type": "text",
    "id": "YmVu4MrLWOxs"
   },
   "source": [
    "_The 3 highest correlations :_\n",
    "\n",
    "_-0.73 between EmploymentStatus & Income?_\n",
    "\n",
    "_0.63 between TotalClaimAmount & Monthly_Premium_Auto_\n",
    "\n",
    "_0.46 between Coverage & Monthly_Premium_Auto_"
   ]
  },
  {
   "cell_type": "code",
   "execution_count": null,
   "metadata": {},
   "outputs": [],
   "source": []
  },
  {
   "cell_type": "markdown",
   "metadata": {
    "colab_type": "text",
    "id": "KwNeNHcbJc99"
   },
   "source": [
    "# Features cleaning -- Income"
   ]
  },
  {
   "cell_type": "markdown",
   "metadata": {
    "colab_type": "text",
    "id": "6anjsiyHIfuL"
   },
   "source": [
    "## Drop missing values"
   ]
  },
  {
   "cell_type": "code",
   "execution_count": 86,
   "metadata": {
    "colab": {
     "base_uri": "https://localhost:8080/",
     "height": 224
    },
    "colab_type": "code",
    "executionInfo": {
     "elapsed": 6505,
     "status": "ok",
     "timestamp": 1585314357283,
     "user": {
      "displayName": "jerome seillier",
      "photoUrl": "https://lh3.googleusercontent.com/a-/AOh14GihpJBQ6Tq4tRKpTCRGJkMirKNNmLg06aountruhg=s64",
      "userId": "00095233701872556527"
     },
     "user_tz": -60
    },
    "id": "o-_PCPQVbnPd",
    "outputId": "bb435294-43ac-45fb-d235-4d2de3cfedfa"
   },
   "outputs": [
    {
     "data": {
      "text/html": [
       "<div>\n",
       "<style scoped>\n",
       "    .dataframe tbody tr th:only-of-type {\n",
       "        vertical-align: middle;\n",
       "    }\n",
       "\n",
       "    .dataframe tbody tr th {\n",
       "        vertical-align: top;\n",
       "    }\n",
       "\n",
       "    .dataframe thead th {\n",
       "        text-align: right;\n",
       "    }\n",
       "</style>\n",
       "<table border=\"1\" class=\"dataframe\">\n",
       "  <thead>\n",
       "    <tr style=\"text-align: right;\">\n",
       "      <th></th>\n",
       "      <th>State</th>\n",
       "      <th>Customer_Lifetime_Value</th>\n",
       "      <th>Response</th>\n",
       "      <th>Coverage</th>\n",
       "      <th>Education</th>\n",
       "      <th>EmploymentStatus</th>\n",
       "      <th>Gender</th>\n",
       "      <th>Income</th>\n",
       "      <th>Location_Code</th>\n",
       "      <th>Marital_Status</th>\n",
       "      <th>Monthly_Premium_Auto</th>\n",
       "      <th>Months_Since_Last_Claim</th>\n",
       "      <th>Months_Since_Policy_Inception</th>\n",
       "      <th>Number_of_Open_Complaints</th>\n",
       "      <th>Number_of_Policies</th>\n",
       "      <th>Policy_Type</th>\n",
       "      <th>Renew_Offer_Type</th>\n",
       "      <th>Sales_Channel</th>\n",
       "      <th>Total_Claim_Amount</th>\n",
       "      <th>Vehicle_Class</th>\n",
       "      <th>Vehicle_Size</th>\n",
       "      <th>Income_clean</th>\n",
       "    </tr>\n",
       "  </thead>\n",
       "  <tbody>\n",
       "    <tr>\n",
       "      <th>0</th>\n",
       "      <td>4</td>\n",
       "      <td>2763.519279</td>\n",
       "      <td>0</td>\n",
       "      <td>0</td>\n",
       "      <td>0</td>\n",
       "      <td>1</td>\n",
       "      <td>0</td>\n",
       "      <td>56274</td>\n",
       "      <td>1</td>\n",
       "      <td>1</td>\n",
       "      <td>69</td>\n",
       "      <td>32</td>\n",
       "      <td>5</td>\n",
       "      <td>0</td>\n",
       "      <td>1</td>\n",
       "      <td>0</td>\n",
       "      <td>0</td>\n",
       "      <td>0</td>\n",
       "      <td>384.811147</td>\n",
       "      <td>5</td>\n",
       "      <td>1</td>\n",
       "      <td>56274.0</td>\n",
       "    </tr>\n",
       "    <tr>\n",
       "      <th>1</th>\n",
       "      <td>0</td>\n",
       "      <td>6979.535903</td>\n",
       "      <td>0</td>\n",
       "      <td>1</td>\n",
       "      <td>0</td>\n",
       "      <td>4</td>\n",
       "      <td>0</td>\n",
       "      <td>0</td>\n",
       "      <td>1</td>\n",
       "      <td>2</td>\n",
       "      <td>94</td>\n",
       "      <td>13</td>\n",
       "      <td>42</td>\n",
       "      <td>0</td>\n",
       "      <td>8</td>\n",
       "      <td>1</td>\n",
       "      <td>2</td>\n",
       "      <td>0</td>\n",
       "      <td>1131.464935</td>\n",
       "      <td>0</td>\n",
       "      <td>1</td>\n",
       "      <td>NaN</td>\n",
       "    </tr>\n",
       "    <tr>\n",
       "      <th>2</th>\n",
       "      <td>2</td>\n",
       "      <td>12887.431650</td>\n",
       "      <td>0</td>\n",
       "      <td>2</td>\n",
       "      <td>0</td>\n",
       "      <td>1</td>\n",
       "      <td>0</td>\n",
       "      <td>48767</td>\n",
       "      <td>1</td>\n",
       "      <td>1</td>\n",
       "      <td>108</td>\n",
       "      <td>18</td>\n",
       "      <td>38</td>\n",
       "      <td>0</td>\n",
       "      <td>2</td>\n",
       "      <td>1</td>\n",
       "      <td>0</td>\n",
       "      <td>0</td>\n",
       "      <td>566.472247</td>\n",
       "      <td>5</td>\n",
       "      <td>1</td>\n",
       "      <td>48767.0</td>\n",
       "    </tr>\n",
       "    <tr>\n",
       "      <th>3</th>\n",
       "      <td>1</td>\n",
       "      <td>7645.861827</td>\n",
       "      <td>0</td>\n",
       "      <td>0</td>\n",
       "      <td>0</td>\n",
       "      <td>4</td>\n",
       "      <td>1</td>\n",
       "      <td>0</td>\n",
       "      <td>1</td>\n",
       "      <td>1</td>\n",
       "      <td>106</td>\n",
       "      <td>18</td>\n",
       "      <td>65</td>\n",
       "      <td>0</td>\n",
       "      <td>7</td>\n",
       "      <td>0</td>\n",
       "      <td>0</td>\n",
       "      <td>2</td>\n",
       "      <td>529.881344</td>\n",
       "      <td>3</td>\n",
       "      <td>1</td>\n",
       "      <td>NaN</td>\n",
       "    </tr>\n",
       "    <tr>\n",
       "      <th>4</th>\n",
       "      <td>4</td>\n",
       "      <td>2813.692575</td>\n",
       "      <td>0</td>\n",
       "      <td>0</td>\n",
       "      <td>0</td>\n",
       "      <td>1</td>\n",
       "      <td>1</td>\n",
       "      <td>43836</td>\n",
       "      <td>0</td>\n",
       "      <td>2</td>\n",
       "      <td>73</td>\n",
       "      <td>12</td>\n",
       "      <td>44</td>\n",
       "      <td>0</td>\n",
       "      <td>1</td>\n",
       "      <td>1</td>\n",
       "      <td>0</td>\n",
       "      <td>0</td>\n",
       "      <td>138.130879</td>\n",
       "      <td>0</td>\n",
       "      <td>1</td>\n",
       "      <td>43836.0</td>\n",
       "    </tr>\n",
       "  </tbody>\n",
       "</table>\n",
       "</div>"
      ],
      "text/plain": [
       "   State  Customer_Lifetime_Value  Response  Coverage  Education  \\\n",
       "0      4              2763.519279         0         0          0   \n",
       "1      0              6979.535903         0         1          0   \n",
       "2      2             12887.431650         0         2          0   \n",
       "3      1              7645.861827         0         0          0   \n",
       "4      4              2813.692575         0         0          0   \n",
       "\n",
       "   EmploymentStatus  Gender  Income  Location_Code  Marital_Status  \\\n",
       "0                 1       0   56274              1               1   \n",
       "1                 4       0       0              1               2   \n",
       "2                 1       0   48767              1               1   \n",
       "3                 4       1       0              1               1   \n",
       "4                 1       1   43836              0               2   \n",
       "\n",
       "   Monthly_Premium_Auto  Months_Since_Last_Claim  \\\n",
       "0                    69                       32   \n",
       "1                    94                       13   \n",
       "2                   108                       18   \n",
       "3                   106                       18   \n",
       "4                    73                       12   \n",
       "\n",
       "   Months_Since_Policy_Inception  Number_of_Open_Complaints  \\\n",
       "0                              5                          0   \n",
       "1                             42                          0   \n",
       "2                             38                          0   \n",
       "3                             65                          0   \n",
       "4                             44                          0   \n",
       "\n",
       "   Number_of_Policies  Policy_Type  Renew_Offer_Type  Sales_Channel  \\\n",
       "0                   1            0                 0              0   \n",
       "1                   8            1                 2              0   \n",
       "2                   2            1                 0              0   \n",
       "3                   7            0                 0              2   \n",
       "4                   1            1                 0              0   \n",
       "\n",
       "   Total_Claim_Amount  Vehicle_Class  Vehicle_Size  Income_clean  \n",
       "0          384.811147              5             1       56274.0  \n",
       "1         1131.464935              0             1           NaN  \n",
       "2          566.472247              5             1       48767.0  \n",
       "3          529.881344              3             1           NaN  \n",
       "4          138.130879              0             1       43836.0  "
      ]
     },
     "execution_count": 86,
     "metadata": {},
     "output_type": "execute_result"
    }
   ],
   "source": [
    "df2 = df.copy() \n",
    "  \n",
    "Income_clean = df['Income'].replace(0, np.nan)\n",
    "  \n",
    "df2[\"Income_clean\"]= Income_clean  \n",
    "df2.head() "
   ]
  },
  {
   "cell_type": "code",
   "execution_count": 87,
   "metadata": {
    "colab": {
     "base_uri": "https://localhost:8080/",
     "height": 34
    },
    "colab_type": "code",
    "executionInfo": {
     "elapsed": 6499,
     "status": "ok",
     "timestamp": 1585314357284,
     "user": {
      "displayName": "jerome seillier",
      "photoUrl": "https://lh3.googleusercontent.com/a-/AOh14GihpJBQ6Tq4tRKpTCRGJkMirKNNmLg06aountruhg=s64",
      "userId": "00095233701872556527"
     },
     "user_tz": -60
    },
    "id": "NEzxKNy_T12a",
    "outputId": "13ab8af9-9a95-486a-b945-51200a6c1e70"
   },
   "outputs": [
    {
     "data": {
      "text/plain": [
       "(6817, 22)"
      ]
     },
     "execution_count": 87,
     "metadata": {},
     "output_type": "execute_result"
    }
   ],
   "source": [
    "df2 = df2.dropna()\n",
    "df2.shape"
   ]
  },
  {
   "cell_type": "code",
   "execution_count": 88,
   "metadata": {
    "colab": {
     "base_uri": "https://localhost:8080/",
     "height": 34
    },
    "colab_type": "code",
    "executionInfo": {
     "elapsed": 6492,
     "status": "ok",
     "timestamp": 1585314357285,
     "user": {
      "displayName": "jerome seillier",
      "photoUrl": "https://lh3.googleusercontent.com/a-/AOh14GihpJBQ6Tq4tRKpTCRGJkMirKNNmLg06aountruhg=s64",
      "userId": "00095233701872556527"
     },
     "user_tz": -60
    },
    "id": "vN7x7yuRidux",
    "outputId": "c30f45c5-5063-4e55-8d9b-d6f3d071f5e7"
   },
   "outputs": [
    {
     "data": {
      "text/plain": [
       "(9134, 21)"
      ]
     },
     "execution_count": 88,
     "metadata": {},
     "output_type": "execute_result"
    }
   ],
   "source": [
    "df.shape"
   ]
  },
  {
   "cell_type": "code",
   "execution_count": null,
   "metadata": {},
   "outputs": [],
   "source": []
  },
  {
   "cell_type": "markdown",
   "metadata": {
    "colab_type": "text",
    "id": "FLMfkWdFJCjE"
   },
   "source": [
    "## Distribution checking"
   ]
  },
  {
   "cell_type": "code",
   "execution_count": 89,
   "metadata": {
    "colab": {
     "base_uri": "https://localhost:8080/",
     "height": 313
    },
    "colab_type": "code",
    "executionInfo": {
     "elapsed": 6466,
     "status": "ok",
     "timestamp": 1585314357287,
     "user": {
      "displayName": "jerome seillier",
      "photoUrl": "https://lh3.googleusercontent.com/a-/AOh14GihpJBQ6Tq4tRKpTCRGJkMirKNNmLg06aountruhg=s64",
      "userId": "00095233701872556527"
     },
     "user_tz": -60
    },
    "id": "KVjjfTdRR-Ws",
    "outputId": "6fafa65e-5ad9-47b9-9175-7abb177e22ee"
   },
   "outputs": [
    {
     "data": {
      "text/plain": [
       "<matplotlib.axes._subplots.AxesSubplot at 0x1a1e3b1710>"
      ]
     },
     "execution_count": 89,
     "metadata": {},
     "output_type": "execute_result"
    },
    {
     "data": {
      "image/png": "[encoded data removed]",
      "text/plain": [
       "<Figure size 432x288 with 1 Axes>"
      ]
     },
     "metadata": {},
     "output_type": "display_data"
    }
   ],
   "source": [
    "sns.distplot(df['Income'])"
   ]
  },
  {
   "cell_type": "code",
   "execution_count": 90,
   "metadata": {
    "colab": {
     "base_uri": "https://localhost:8080/",
     "height": 313
    },
    "colab_type": "code",
    "executionInfo": {
     "elapsed": 6674,
     "status": "ok",
     "timestamp": 1585314357533,
     "user": {
      "displayName": "jerome seillier",
      "photoUrl": "https://lh3.googleusercontent.com/a-/AOh14GihpJBQ6Tq4tRKpTCRGJkMirKNNmLg06aountruhg=s64",
      "userId": "00095233701872556527"
     },
     "user_tz": -60
    },
    "id": "SAEVEjjUJGC3",
    "outputId": "5e88b7c3-8257-49bb-d7a1-f4488900243f"
   },
   "outputs": [
    {
     "data": {
      "text/plain": [
       "<matplotlib.axes._subplots.AxesSubplot at 0x1a1e3ec750>"
      ]
     },
     "execution_count": 90,
     "metadata": {},
     "output_type": "execute_result"
    },
    {
     "data": {
      "image/png": "[encoded data removed]",
      "text/plain": [
       "<Figure size 432x288 with 1 Axes>"
      ]
     },
     "metadata": {},
     "output_type": "display_data"
    }
   ],
   "source": [
    "sns.distplot(df2['Income'])"
   ]
  },
  {
   "cell_type": "code",
   "execution_count": null,
   "metadata": {
    "colab_type": "text",
    "id": "lAT7oyjNbMyj"
   },
   "outputs": [],
   "source": []
  },
  {
   "cell_type": "markdown",
   "metadata": {
    "colab_type": "text",
    "id": "RehU5VKPbQYy"
   },
   "source": [
    "# Preprocessing\n",
    "### Dummyfication "
   ]
  },
  {
   "cell_type": "code",
   "execution_count": 91,
   "metadata": {
    "colab": {
     "base_uri": "https://localhost:8080/",
     "height": 379
    },
    "colab_type": "code",
    "executionInfo": {
     "elapsed": 6641,
     "status": "ok",
     "timestamp": 1585314357534,
     "user": {
      "displayName": "jerome seillier",
      "photoUrl": "https://lh3.googleusercontent.com/a-/AOh14GihpJBQ6Tq4tRKpTCRGJkMirKNNmLg06aountruhg=s64",
      "userId": "00095233701872556527"
     },
     "user_tz": -60
    },
    "id": "AbRc_94-V_zJ",
    "outputId": "3104f4ca-9960-4209-b91d-3012fca2cbca"
   },
   "outputs": [
    {
     "data": {
      "text/html": [
       "<div>\n",
       "<style scoped>\n",
       "    .dataframe tbody tr th:only-of-type {\n",
       "        vertical-align: middle;\n",
       "    }\n",
       "\n",
       "    .dataframe tbody tr th {\n",
       "        vertical-align: top;\n",
       "    }\n",
       "\n",
       "    .dataframe thead th {\n",
       "        text-align: right;\n",
       "    }\n",
       "</style>\n",
       "<table border=\"1\" class=\"dataframe\">\n",
       "  <thead>\n",
       "    <tr style=\"text-align: right;\">\n",
       "      <th></th>\n",
       "      <th>State</th>\n",
       "      <th>Customer_Lifetime_Value</th>\n",
       "      <th>Response</th>\n",
       "      <th>Coverage</th>\n",
       "      <th>Education</th>\n",
       "      <th>EmploymentStatus</th>\n",
       "      <th>Gender</th>\n",
       "      <th>Income</th>\n",
       "      <th>Location_Code</th>\n",
       "      <th>Marital_Status</th>\n",
       "      <th>Monthly_Premium_Auto</th>\n",
       "      <th>Months_Since_Last_Claim</th>\n",
       "      <th>Months_Since_Policy_Inception</th>\n",
       "      <th>Number_of_Open_Complaints</th>\n",
       "      <th>Number_of_Policies</th>\n",
       "      <th>Policy_Type</th>\n",
       "      <th>Renew_Offer_Type</th>\n",
       "      <th>Sales_Channel</th>\n",
       "      <th>Total_Claim_Amount</th>\n",
       "      <th>Vehicle_Class</th>\n",
       "      <th>Vehicle_Size</th>\n",
       "    </tr>\n",
       "  </thead>\n",
       "  <tbody>\n",
       "    <tr>\n",
       "      <th>0</th>\n",
       "      <td>4</td>\n",
       "      <td>2763.519279</td>\n",
       "      <td>0</td>\n",
       "      <td>0</td>\n",
       "      <td>0</td>\n",
       "      <td>1</td>\n",
       "      <td>0</td>\n",
       "      <td>56274</td>\n",
       "      <td>1</td>\n",
       "      <td>1</td>\n",
       "      <td>69</td>\n",
       "      <td>32</td>\n",
       "      <td>5</td>\n",
       "      <td>0</td>\n",
       "      <td>1</td>\n",
       "      <td>0</td>\n",
       "      <td>0</td>\n",
       "      <td>0</td>\n",
       "      <td>384.811147</td>\n",
       "      <td>5</td>\n",
       "      <td>1</td>\n",
       "    </tr>\n",
       "    <tr>\n",
       "      <th>1</th>\n",
       "      <td>0</td>\n",
       "      <td>6979.535903</td>\n",
       "      <td>0</td>\n",
       "      <td>1</td>\n",
       "      <td>0</td>\n",
       "      <td>4</td>\n",
       "      <td>0</td>\n",
       "      <td>0</td>\n",
       "      <td>1</td>\n",
       "      <td>2</td>\n",
       "      <td>94</td>\n",
       "      <td>13</td>\n",
       "      <td>42</td>\n",
       "      <td>0</td>\n",
       "      <td>8</td>\n",
       "      <td>1</td>\n",
       "      <td>2</td>\n",
       "      <td>0</td>\n",
       "      <td>1131.464935</td>\n",
       "      <td>0</td>\n",
       "      <td>1</td>\n",
       "    </tr>\n",
       "    <tr>\n",
       "      <th>2</th>\n",
       "      <td>2</td>\n",
       "      <td>12887.431650</td>\n",
       "      <td>0</td>\n",
       "      <td>2</td>\n",
       "      <td>0</td>\n",
       "      <td>1</td>\n",
       "      <td>0</td>\n",
       "      <td>48767</td>\n",
       "      <td>1</td>\n",
       "      <td>1</td>\n",
       "      <td>108</td>\n",
       "      <td>18</td>\n",
       "      <td>38</td>\n",
       "      <td>0</td>\n",
       "      <td>2</td>\n",
       "      <td>1</td>\n",
       "      <td>0</td>\n",
       "      <td>0</td>\n",
       "      <td>566.472247</td>\n",
       "      <td>5</td>\n",
       "      <td>1</td>\n",
       "    </tr>\n",
       "    <tr>\n",
       "      <th>3</th>\n",
       "      <td>1</td>\n",
       "      <td>7645.861827</td>\n",
       "      <td>0</td>\n",
       "      <td>0</td>\n",
       "      <td>0</td>\n",
       "      <td>4</td>\n",
       "      <td>1</td>\n",
       "      <td>0</td>\n",
       "      <td>1</td>\n",
       "      <td>1</td>\n",
       "      <td>106</td>\n",
       "      <td>18</td>\n",
       "      <td>65</td>\n",
       "      <td>0</td>\n",
       "      <td>7</td>\n",
       "      <td>0</td>\n",
       "      <td>0</td>\n",
       "      <td>2</td>\n",
       "      <td>529.881344</td>\n",
       "      <td>3</td>\n",
       "      <td>1</td>\n",
       "    </tr>\n",
       "    <tr>\n",
       "      <th>4</th>\n",
       "      <td>4</td>\n",
       "      <td>2813.692575</td>\n",
       "      <td>0</td>\n",
       "      <td>0</td>\n",
       "      <td>0</td>\n",
       "      <td>1</td>\n",
       "      <td>1</td>\n",
       "      <td>43836</td>\n",
       "      <td>0</td>\n",
       "      <td>2</td>\n",
       "      <td>73</td>\n",
       "      <td>12</td>\n",
       "      <td>44</td>\n",
       "      <td>0</td>\n",
       "      <td>1</td>\n",
       "      <td>1</td>\n",
       "      <td>0</td>\n",
       "      <td>0</td>\n",
       "      <td>138.130879</td>\n",
       "      <td>0</td>\n",
       "      <td>1</td>\n",
       "    </tr>\n",
       "    <tr>\n",
       "      <th>5</th>\n",
       "      <td>3</td>\n",
       "      <td>8256.297800</td>\n",
       "      <td>1</td>\n",
       "      <td>0</td>\n",
       "      <td>0</td>\n",
       "      <td>1</td>\n",
       "      <td>0</td>\n",
       "      <td>62902</td>\n",
       "      <td>0</td>\n",
       "      <td>1</td>\n",
       "      <td>69</td>\n",
       "      <td>14</td>\n",
       "      <td>94</td>\n",
       "      <td>0</td>\n",
       "      <td>2</td>\n",
       "      <td>1</td>\n",
       "      <td>1</td>\n",
       "      <td>3</td>\n",
       "      <td>159.383042</td>\n",
       "      <td>5</td>\n",
       "      <td>1</td>\n",
       "    </tr>\n",
       "    <tr>\n",
       "      <th>6</th>\n",
       "      <td>3</td>\n",
       "      <td>5380.898636</td>\n",
       "      <td>1</td>\n",
       "      <td>0</td>\n",
       "      <td>1</td>\n",
       "      <td>1</td>\n",
       "      <td>0</td>\n",
       "      <td>55350</td>\n",
       "      <td>1</td>\n",
       "      <td>1</td>\n",
       "      <td>67</td>\n",
       "      <td>0</td>\n",
       "      <td>13</td>\n",
       "      <td>0</td>\n",
       "      <td>9</td>\n",
       "      <td>0</td>\n",
       "      <td>0</td>\n",
       "      <td>0</td>\n",
       "      <td>321.600000</td>\n",
       "      <td>0</td>\n",
       "      <td>1</td>\n",
       "    </tr>\n",
       "    <tr>\n",
       "      <th>7</th>\n",
       "      <td>0</td>\n",
       "      <td>7216.100311</td>\n",
       "      <td>0</td>\n",
       "      <td>2</td>\n",
       "      <td>4</td>\n",
       "      <td>4</td>\n",
       "      <td>1</td>\n",
       "      <td>0</td>\n",
       "      <td>2</td>\n",
       "      <td>2</td>\n",
       "      <td>101</td>\n",
       "      <td>0</td>\n",
       "      <td>68</td>\n",
       "      <td>0</td>\n",
       "      <td>4</td>\n",
       "      <td>0</td>\n",
       "      <td>0</td>\n",
       "      <td>0</td>\n",
       "      <td>363.029680</td>\n",
       "      <td>0</td>\n",
       "      <td>1</td>\n",
       "    </tr>\n",
       "    <tr>\n",
       "      <th>8</th>\n",
       "      <td>3</td>\n",
       "      <td>24127.504020</td>\n",
       "      <td>1</td>\n",
       "      <td>0</td>\n",
       "      <td>0</td>\n",
       "      <td>2</td>\n",
       "      <td>1</td>\n",
       "      <td>14072</td>\n",
       "      <td>1</td>\n",
       "      <td>0</td>\n",
       "      <td>71</td>\n",
       "      <td>13</td>\n",
       "      <td>3</td>\n",
       "      <td>0</td>\n",
       "      <td>2</td>\n",
       "      <td>0</td>\n",
       "      <td>0</td>\n",
       "      <td>0</td>\n",
       "      <td>511.200000</td>\n",
       "      <td>0</td>\n",
       "      <td>1</td>\n",
       "    </tr>\n",
       "    <tr>\n",
       "      <th>9</th>\n",
       "      <td>3</td>\n",
       "      <td>7388.178085</td>\n",
       "      <td>0</td>\n",
       "      <td>1</td>\n",
       "      <td>1</td>\n",
       "      <td>1</td>\n",
       "      <td>0</td>\n",
       "      <td>28812</td>\n",
       "      <td>2</td>\n",
       "      <td>1</td>\n",
       "      <td>93</td>\n",
       "      <td>17</td>\n",
       "      <td>7</td>\n",
       "      <td>0</td>\n",
       "      <td>8</td>\n",
       "      <td>2</td>\n",
       "      <td>1</td>\n",
       "      <td>1</td>\n",
       "      <td>425.527834</td>\n",
       "      <td>0</td>\n",
       "      <td>1</td>\n",
       "    </tr>\n",
       "  </tbody>\n",
       "</table>\n",
       "</div>"
      ],
      "text/plain": [
       "   State  Customer_Lifetime_Value  Response  Coverage  Education  \\\n",
       "0      4              2763.519279         0         0          0   \n",
       "1      0              6979.535903         0         1          0   \n",
       "2      2             12887.431650         0         2          0   \n",
       "3      1              7645.861827         0         0          0   \n",
       "4      4              2813.692575         0         0          0   \n",
       "5      3              8256.297800         1         0          0   \n",
       "6      3              5380.898636         1         0          1   \n",
       "7      0              7216.100311         0         2          4   \n",
       "8      3             24127.504020         1         0          0   \n",
       "9      3              7388.178085         0         1          1   \n",
       "\n",
       "   EmploymentStatus  Gender  Income  Location_Code  Marital_Status  \\\n",
       "0                 1       0   56274              1               1   \n",
       "1                 4       0       0              1               2   \n",
       "2                 1       0   48767              1               1   \n",
       "3                 4       1       0              1               1   \n",
       "4                 1       1   43836              0               2   \n",
       "5                 1       0   62902              0               1   \n",
       "6                 1       0   55350              1               1   \n",
       "7                 4       1       0              2               2   \n",
       "8                 2       1   14072              1               0   \n",
       "9                 1       0   28812              2               1   \n",
       "\n",
       "   Monthly_Premium_Auto  Months_Since_Last_Claim  \\\n",
       "0                    69                       32   \n",
       "1                    94                       13   \n",
       "2                   108                       18   \n",
       "3                   106                       18   \n",
       "4                    73                       12   \n",
       "5                    69                       14   \n",
       "6                    67                        0   \n",
       "7                   101                        0   \n",
       "8                    71                       13   \n",
       "9                    93                       17   \n",
       "\n",
       "   Months_Since_Policy_Inception  Number_of_Open_Complaints  \\\n",
       "0                              5                          0   \n",
       "1                             42                          0   \n",
       "2                             38                          0   \n",
       "3                             65                          0   \n",
       "4                             44                          0   \n",
       "5                             94                          0   \n",
       "6                             13                          0   \n",
       "7                             68                          0   \n",
       "8                              3                          0   \n",
       "9                              7                          0   \n",
       "\n",
       "   Number_of_Policies  Policy_Type  Renew_Offer_Type  Sales_Channel  \\\n",
       "0                   1            0                 0              0   \n",
       "1                   8            1                 2              0   \n",
       "2                   2            1                 0              0   \n",
       "3                   7            0                 0              2   \n",
       "4                   1            1                 0              0   \n",
       "5                   2            1                 1              3   \n",
       "6                   9            0                 0              0   \n",
       "7                   4            0                 0              0   \n",
       "8                   2            0                 0              0   \n",
       "9                   8            2                 1              1   \n",
       "\n",
       "   Total_Claim_Amount  Vehicle_Class  Vehicle_Size  \n",
       "0          384.811147              5             1  \n",
       "1         1131.464935              0             1  \n",
       "2          566.472247              5             1  \n",
       "3          529.881344              3             1  \n",
       "4          138.130879              0             1  \n",
       "5          159.383042              5             1  \n",
       "6          321.600000              0             1  \n",
       "7          363.029680              0             1  \n",
       "8          511.200000              0             1  \n",
       "9          425.527834              0             1  "
      ]
     },
     "execution_count": 91,
     "metadata": {},
     "output_type": "execute_result"
    }
   ],
   "source": [
    "df_dummified = pd.get_dummies(df, drop_first=True)\n",
    "df_dummified.head(10)"
   ]
  },
  {
   "cell_type": "markdown",
   "metadata": {},
   "source": [
    "### Dummyfication of df2"
   ]
  },
  {
   "cell_type": "code",
   "execution_count": 92,
   "metadata": {
    "colab": {
     "base_uri": "https://localhost:8080/",
     "height": 379
    },
    "colab_type": "code",
    "executionInfo": {
     "elapsed": 6635,
     "status": "ok",
     "timestamp": 1585314357534,
     "user": {
      "displayName": "jerome seillier",
      "photoUrl": "https://lh3.googleusercontent.com/a-/AOh14GihpJBQ6Tq4tRKpTCRGJkMirKNNmLg06aountruhg=s64",
      "userId": "00095233701872556527"
     },
     "user_tz": -60
    },
    "id": "XW9x3hOlweDy",
    "outputId": "d68bd139-9188-4d51-fda4-4a7496f1728a"
   },
   "outputs": [
    {
     "data": {
      "text/html": [
       "<div>\n",
       "<style scoped>\n",
       "    .dataframe tbody tr th:only-of-type {\n",
       "        vertical-align: middle;\n",
       "    }\n",
       "\n",
       "    .dataframe tbody tr th {\n",
       "        vertical-align: top;\n",
       "    }\n",
       "\n",
       "    .dataframe thead th {\n",
       "        text-align: right;\n",
       "    }\n",
       "</style>\n",
       "<table border=\"1\" class=\"dataframe\">\n",
       "  <thead>\n",
       "    <tr style=\"text-align: right;\">\n",
       "      <th></th>\n",
       "      <th>State</th>\n",
       "      <th>Customer_Lifetime_Value</th>\n",
       "      <th>Response</th>\n",
       "      <th>Coverage</th>\n",
       "      <th>Education</th>\n",
       "      <th>EmploymentStatus</th>\n",
       "      <th>Gender</th>\n",
       "      <th>Income</th>\n",
       "      <th>Location_Code</th>\n",
       "      <th>Marital_Status</th>\n",
       "      <th>Monthly_Premium_Auto</th>\n",
       "      <th>Months_Since_Last_Claim</th>\n",
       "      <th>Months_Since_Policy_Inception</th>\n",
       "      <th>Number_of_Open_Complaints</th>\n",
       "      <th>Number_of_Policies</th>\n",
       "      <th>Policy_Type</th>\n",
       "      <th>Renew_Offer_Type</th>\n",
       "      <th>Sales_Channel</th>\n",
       "      <th>Total_Claim_Amount</th>\n",
       "      <th>Vehicle_Class</th>\n",
       "      <th>Vehicle_Size</th>\n",
       "      <th>Income_clean</th>\n",
       "    </tr>\n",
       "  </thead>\n",
       "  <tbody>\n",
       "    <tr>\n",
       "      <th>0</th>\n",
       "      <td>4</td>\n",
       "      <td>2763.519279</td>\n",
       "      <td>0</td>\n",
       "      <td>0</td>\n",
       "      <td>0</td>\n",
       "      <td>1</td>\n",
       "      <td>0</td>\n",
       "      <td>56274</td>\n",
       "      <td>1</td>\n",
       "      <td>1</td>\n",
       "      <td>69</td>\n",
       "      <td>32</td>\n",
       "      <td>5</td>\n",
       "      <td>0</td>\n",
       "      <td>1</td>\n",
       "      <td>0</td>\n",
       "      <td>0</td>\n",
       "      <td>0</td>\n",
       "      <td>384.811147</td>\n",
       "      <td>5</td>\n",
       "      <td>1</td>\n",
       "      <td>56274.0</td>\n",
       "    </tr>\n",
       "    <tr>\n",
       "      <th>2</th>\n",
       "      <td>2</td>\n",
       "      <td>12887.431650</td>\n",
       "      <td>0</td>\n",
       "      <td>2</td>\n",
       "      <td>0</td>\n",
       "      <td>1</td>\n",
       "      <td>0</td>\n",
       "      <td>48767</td>\n",
       "      <td>1</td>\n",
       "      <td>1</td>\n",
       "      <td>108</td>\n",
       "      <td>18</td>\n",
       "      <td>38</td>\n",
       "      <td>0</td>\n",
       "      <td>2</td>\n",
       "      <td>1</td>\n",
       "      <td>0</td>\n",
       "      <td>0</td>\n",
       "      <td>566.472247</td>\n",
       "      <td>5</td>\n",
       "      <td>1</td>\n",
       "      <td>48767.0</td>\n",
       "    </tr>\n",
       "    <tr>\n",
       "      <th>4</th>\n",
       "      <td>4</td>\n",
       "      <td>2813.692575</td>\n",
       "      <td>0</td>\n",
       "      <td>0</td>\n",
       "      <td>0</td>\n",
       "      <td>1</td>\n",
       "      <td>1</td>\n",
       "      <td>43836</td>\n",
       "      <td>0</td>\n",
       "      <td>2</td>\n",
       "      <td>73</td>\n",
       "      <td>12</td>\n",
       "      <td>44</td>\n",
       "      <td>0</td>\n",
       "      <td>1</td>\n",
       "      <td>1</td>\n",
       "      <td>0</td>\n",
       "      <td>0</td>\n",
       "      <td>138.130879</td>\n",
       "      <td>0</td>\n",
       "      <td>1</td>\n",
       "      <td>43836.0</td>\n",
       "    </tr>\n",
       "    <tr>\n",
       "      <th>5</th>\n",
       "      <td>3</td>\n",
       "      <td>8256.297800</td>\n",
       "      <td>1</td>\n",
       "      <td>0</td>\n",
       "      <td>0</td>\n",
       "      <td>1</td>\n",
       "      <td>0</td>\n",
       "      <td>62902</td>\n",
       "      <td>0</td>\n",
       "      <td>1</td>\n",
       "      <td>69</td>\n",
       "      <td>14</td>\n",
       "      <td>94</td>\n",
       "      <td>0</td>\n",
       "      <td>2</td>\n",
       "      <td>1</td>\n",
       "      <td>1</td>\n",
       "      <td>3</td>\n",
       "      <td>159.383042</td>\n",
       "      <td>5</td>\n",
       "      <td>1</td>\n",
       "      <td>62902.0</td>\n",
       "    </tr>\n",
       "    <tr>\n",
       "      <th>6</th>\n",
       "      <td>3</td>\n",
       "      <td>5380.898636</td>\n",
       "      <td>1</td>\n",
       "      <td>0</td>\n",
       "      <td>1</td>\n",
       "      <td>1</td>\n",
       "      <td>0</td>\n",
       "      <td>55350</td>\n",
       "      <td>1</td>\n",
       "      <td>1</td>\n",
       "      <td>67</td>\n",
       "      <td>0</td>\n",
       "      <td>13</td>\n",
       "      <td>0</td>\n",
       "      <td>9</td>\n",
       "      <td>0</td>\n",
       "      <td>0</td>\n",
       "      <td>0</td>\n",
       "      <td>321.600000</td>\n",
       "      <td>0</td>\n",
       "      <td>1</td>\n",
       "      <td>55350.0</td>\n",
       "    </tr>\n",
       "    <tr>\n",
       "      <th>8</th>\n",
       "      <td>3</td>\n",
       "      <td>24127.504020</td>\n",
       "      <td>1</td>\n",
       "      <td>0</td>\n",
       "      <td>0</td>\n",
       "      <td>2</td>\n",
       "      <td>1</td>\n",
       "      <td>14072</td>\n",
       "      <td>1</td>\n",
       "      <td>0</td>\n",
       "      <td>71</td>\n",
       "      <td>13</td>\n",
       "      <td>3</td>\n",
       "      <td>0</td>\n",
       "      <td>2</td>\n",
       "      <td>0</td>\n",
       "      <td>0</td>\n",
       "      <td>0</td>\n",
       "      <td>511.200000</td>\n",
       "      <td>0</td>\n",
       "      <td>1</td>\n",
       "      <td>14072.0</td>\n",
       "    </tr>\n",
       "    <tr>\n",
       "      <th>9</th>\n",
       "      <td>3</td>\n",
       "      <td>7388.178085</td>\n",
       "      <td>0</td>\n",
       "      <td>1</td>\n",
       "      <td>1</td>\n",
       "      <td>1</td>\n",
       "      <td>0</td>\n",
       "      <td>28812</td>\n",
       "      <td>2</td>\n",
       "      <td>1</td>\n",
       "      <td>93</td>\n",
       "      <td>17</td>\n",
       "      <td>7</td>\n",
       "      <td>0</td>\n",
       "      <td>8</td>\n",
       "      <td>2</td>\n",
       "      <td>1</td>\n",
       "      <td>1</td>\n",
       "      <td>425.527834</td>\n",
       "      <td>0</td>\n",
       "      <td>1</td>\n",
       "      <td>28812.0</td>\n",
       "    </tr>\n",
       "    <tr>\n",
       "      <th>12</th>\n",
       "      <td>1</td>\n",
       "      <td>8798.797003</td>\n",
       "      <td>0</td>\n",
       "      <td>2</td>\n",
       "      <td>4</td>\n",
       "      <td>1</td>\n",
       "      <td>1</td>\n",
       "      <td>77026</td>\n",
       "      <td>2</td>\n",
       "      <td>1</td>\n",
       "      <td>110</td>\n",
       "      <td>9</td>\n",
       "      <td>82</td>\n",
       "      <td>2</td>\n",
       "      <td>3</td>\n",
       "      <td>0</td>\n",
       "      <td>1</td>\n",
       "      <td>0</td>\n",
       "      <td>472.029737</td>\n",
       "      <td>0</td>\n",
       "      <td>1</td>\n",
       "      <td>77026.0</td>\n",
       "    </tr>\n",
       "    <tr>\n",
       "      <th>13</th>\n",
       "      <td>0</td>\n",
       "      <td>8819.018934</td>\n",
       "      <td>1</td>\n",
       "      <td>0</td>\n",
       "      <td>3</td>\n",
       "      <td>1</td>\n",
       "      <td>1</td>\n",
       "      <td>99845</td>\n",
       "      <td>1</td>\n",
       "      <td>1</td>\n",
       "      <td>110</td>\n",
       "      <td>23</td>\n",
       "      <td>25</td>\n",
       "      <td>1</td>\n",
       "      <td>8</td>\n",
       "      <td>0</td>\n",
       "      <td>1</td>\n",
       "      <td>1</td>\n",
       "      <td>528.000000</td>\n",
       "      <td>3</td>\n",
       "      <td>1</td>\n",
       "      <td>99845.0</td>\n",
       "    </tr>\n",
       "    <tr>\n",
       "      <th>14</th>\n",
       "      <td>1</td>\n",
       "      <td>5384.431665</td>\n",
       "      <td>0</td>\n",
       "      <td>0</td>\n",
       "      <td>1</td>\n",
       "      <td>1</td>\n",
       "      <td>1</td>\n",
       "      <td>83689</td>\n",
       "      <td>2</td>\n",
       "      <td>2</td>\n",
       "      <td>70</td>\n",
       "      <td>21</td>\n",
       "      <td>10</td>\n",
       "      <td>2</td>\n",
       "      <td>8</td>\n",
       "      <td>0</td>\n",
       "      <td>3</td>\n",
       "      <td>2</td>\n",
       "      <td>307.139132</td>\n",
       "      <td>0</td>\n",
       "      <td>1</td>\n",
       "      <td>83689.0</td>\n",
       "    </tr>\n",
       "  </tbody>\n",
       "</table>\n",
       "</div>"
      ],
      "text/plain": [
       "    State  Customer_Lifetime_Value  Response  Coverage  Education  \\\n",
       "0       4              2763.519279         0         0          0   \n",
       "2       2             12887.431650         0         2          0   \n",
       "4       4              2813.692575         0         0          0   \n",
       "5       3              8256.297800         1         0          0   \n",
       "6       3              5380.898636         1         0          1   \n",
       "8       3             24127.504020         1         0          0   \n",
       "9       3              7388.178085         0         1          1   \n",
       "12      1              8798.797003         0         2          4   \n",
       "13      0              8819.018934         1         0          3   \n",
       "14      1              5384.431665         0         0          1   \n",
       "\n",
       "    EmploymentStatus  Gender  Income  Location_Code  Marital_Status  \\\n",
       "0                  1       0   56274              1               1   \n",
       "2                  1       0   48767              1               1   \n",
       "4                  1       1   43836              0               2   \n",
       "5                  1       0   62902              0               1   \n",
       "6                  1       0   55350              1               1   \n",
       "8                  2       1   14072              1               0   \n",
       "9                  1       0   28812              2               1   \n",
       "12                 1       1   77026              2               1   \n",
       "13                 1       1   99845              1               1   \n",
       "14                 1       1   83689              2               2   \n",
       "\n",
       "    Monthly_Premium_Auto  Months_Since_Last_Claim  \\\n",
       "0                     69                       32   \n",
       "2                    108                       18   \n",
       "4                     73                       12   \n",
       "5                     69                       14   \n",
       "6                     67                        0   \n",
       "8                     71                       13   \n",
       "9                     93                       17   \n",
       "12                   110                        9   \n",
       "13                   110                       23   \n",
       "14                    70                       21   \n",
       "\n",
       "    Months_Since_Policy_Inception  Number_of_Open_Complaints  \\\n",
       "0                               5                          0   \n",
       "2                              38                          0   \n",
       "4                              44                          0   \n",
       "5                              94                          0   \n",
       "6                              13                          0   \n",
       "8                               3                          0   \n",
       "9                               7                          0   \n",
       "12                             82                          2   \n",
       "13                             25                          1   \n",
       "14                             10                          2   \n",
       "\n",
       "    Number_of_Policies  Policy_Type  Renew_Offer_Type  Sales_Channel  \\\n",
       "0                    1            0                 0              0   \n",
       "2                    2            1                 0              0   \n",
       "4                    1            1                 0              0   \n",
       "5                    2            1                 1              3   \n",
       "6                    9            0                 0              0   \n",
       "8                    2            0                 0              0   \n",
       "9                    8            2                 1              1   \n",
       "12                   3            0                 1              0   \n",
       "13                   8            0                 1              1   \n",
       "14                   8            0                 3              2   \n",
       "\n",
       "    Total_Claim_Amount  Vehicle_Class  Vehicle_Size  Income_clean  \n",
       "0           384.811147              5             1       56274.0  \n",
       "2           566.472247              5             1       48767.0  \n",
       "4           138.130879              0             1       43836.0  \n",
       "5           159.383042              5             1       62902.0  \n",
       "6           321.600000              0             1       55350.0  \n",
       "8           511.200000              0             1       14072.0  \n",
       "9           425.527834              0             1       28812.0  \n",
       "12          472.029737              0             1       77026.0  \n",
       "13          528.000000              3             1       99845.0  \n",
       "14          307.139132              0             1       83689.0  "
      ]
     },
     "execution_count": 92,
     "metadata": {},
     "output_type": "execute_result"
    }
   ],
   "source": [
    "df2_dummified = pd.get_dummies(df2, drop_first=True)\n",
    "df2_dummified.head(10)"
   ]
  },
  {
   "cell_type": "code",
   "execution_count": null,
   "metadata": {},
   "outputs": [],
   "source": []
  },
  {
   "cell_type": "markdown",
   "metadata": {
    "colab_type": "text",
    "id": "XvaocCq-HesQ"
   },
   "source": [
    "# Machine Learning (Income = 0 included)"
   ]
  },
  {
   "cell_type": "markdown",
   "metadata": {
    "colab_type": "text",
    "id": "nd8Dcob6agxy"
   },
   "source": [
    "## Logistic regression (Income = 0 included)"
   ]
  },
  {
   "cell_type": "markdown",
   "metadata": {},
   "source": [
    "# Imports"
   ]
  },
  {
   "cell_type": "code",
   "execution_count": 97,
   "metadata": {},
   "outputs": [],
   "source": [
    "from sklearn.tree import DecisionTreeClassifier\n",
    "from sklearn.utils import resample\n",
    "from sklearn.model_selection import train_test_split, cross_val_score, GridSearchCV\n",
    "from sklearn import neighbors\n",
    "from sklearn import metrics\n",
    "from sklearn.metrics import confusion_matrix, precision_score, recall_score, accuracy_score, classification_report, f1_score"
   ]
  },
  {
   "cell_type": "markdown",
   "metadata": {},
   "source": [
    "### We create two objects X and y as our features and target/labels"
   ]
  },
  {
   "cell_type": "code",
   "execution_count": 99,
   "metadata": {
    "colab": {},
    "colab_type": "code",
    "id": "A-r1PQiualwz"
   },
   "outputs": [],
   "source": [
    "X = df_dummified.drop([\"Response\"], axis=1)"
   ]
  },
  {
   "cell_type": "code",
   "execution_count": 98,
   "metadata": {
    "colab": {},
    "colab_type": "code",
    "id": "lHZhsc2NaeKa"
   },
   "outputs": [],
   "source": [
    "y = df_dummified[\"Response\"]"
   ]
  },
  {
   "cell_type": "code",
   "execution_count": 100,
   "metadata": {
    "colab": {},
    "colab_type": "code",
    "id": "53o6LjD0WyFG"
   },
   "outputs": [],
   "source": [
    "from sklearn.model_selection import train_test_split, cross_validate\n",
    "from sklearn.preprocessing import StandardScaler\n",
    "\n",
    "sc_x = StandardScaler()\n",
    "X = sc_x.fit_transform(X)"
   ]
  },
  {
   "cell_type": "markdown",
   "metadata": {},
   "source": [
    "## Split the Test and Train Dataset"
   ]
  },
  {
   "cell_type": "code",
   "execution_count": 101,
   "metadata": {
    "colab": {},
    "colab_type": "code",
    "id": "DW84bvKUaqSZ"
   },
   "outputs": [],
   "source": [
    "X_train, X_test, y_train, y_test = train_test_split(X, y, test_size = 0.2, random_state=42)"
   ]
  },
  {
   "cell_type": "markdown",
   "metadata": {},
   "source": [
    "## Training the Model"
   ]
  },
  {
   "cell_type": "code",
   "execution_count": 102,
   "metadata": {
    "colab": {
     "base_uri": "https://localhost:8080/",
     "height": 51
    },
    "colab_type": "code",
    "executionInfo": {
     "elapsed": 7045,
     "status": "ok",
     "timestamp": 1585314357971,
     "user": {
      "displayName": "jerome seillier",
      "photoUrl": "https://lh3.googleusercontent.com/a-/AOh14GihpJBQ6Tq4tRKpTCRGJkMirKNNmLg06aountruhg=s64",
      "userId": "00095233701872556527"
     },
     "user_tz": -60
    },
    "id": "YQ4xbzX8cRdT",
    "outputId": "bed94f48-9a53-490e-b538-044f036d692c"
   },
   "outputs": [],
   "source": [
    "from sklearn.linear_model import LogisticRegression\n",
    "lr = LogisticRegression()"
   ]
  },
  {
   "cell_type": "markdown",
   "metadata": {},
   "source": [
    "## Fit the model using the training data"
   ]
  },
  {
   "cell_type": "code",
   "execution_count": 103,
   "metadata": {},
   "outputs": [
    {
     "data": {
      "text/plain": [
       "LogisticRegression(C=1.0, class_weight=None, dual=False, fit_intercept=True,\n",
       "                   intercept_scaling=1, l1_ratio=None, max_iter=100,\n",
       "                   multi_class='auto', n_jobs=None, penalty='l2',\n",
       "                   random_state=None, solver='lbfgs', tol=0.0001, verbose=0,\n",
       "                   warm_start=False)"
      ]
     },
     "execution_count": 103,
     "metadata": {},
     "output_type": "execute_result"
    }
   ],
   "source": [
    "lr.fit(X_train, y_train)"
   ]
  },
  {
   "cell_type": "markdown",
   "metadata": {},
   "source": [
    "# Comparing test with the data"
   ]
  },
  {
   "cell_type": "code",
   "execution_count": 104,
   "metadata": {},
   "outputs": [
    {
     "name": "stdout",
     "output_type": "stream",
     "text": [
      "Logistic Regression Test Accuracy 85.44 %\n",
      "Logistic Regression Train Accuracy 85.73 %\n"
     ]
    }
   ],
   "source": [
    "lr_acc_test = lr.score(X_test, y_test)*100\n",
    "lr_acc_train = lr.score(X_train, y_train)*100\n",
    "\n",
    "print(\"Logistic Regression Test Accuracy\", round(lr_acc_test, 2),\"%\")\n",
    "print(\"Logistic Regression Train Accuracy\", round(lr_acc_train, 2),\"%\")"
   ]
  },
  {
   "cell_type": "markdown",
   "metadata": {},
   "source": [
    "## Predictions and Evaluations\n",
    "\n",
    "\n",
    "### We use the predict method to predict labels from X_test"
   ]
  },
  {
   "cell_type": "code",
   "execution_count": 106,
   "metadata": {
    "colab": {
     "base_uri": "https://localhost:8080/",
     "height": 284
    },
    "colab_type": "code",
    "executionInfo": {
     "elapsed": 7248,
     "status": "ok",
     "timestamp": 1585314358183,
     "user": {
      "displayName": "jerome seillier",
      "photoUrl": "https://lh3.googleusercontent.com/a-/AOh14GihpJBQ6Tq4tRKpTCRGJkMirKNNmLg06aountruhg=s64",
      "userId": "00095233701872556527"
     },
     "user_tz": -60
    },
    "id": "znB8APKzeZq1",
    "outputId": "20a869a3-2d4d-4410-d1c8-e3f8985f80b0"
   },
   "outputs": [
    {
     "data": {
      "image/png": "[encoded data removed]",
      "text/plain": [
       "<Figure size 432x288 with 2 Axes>"
      ]
     },
     "metadata": {},
     "output_type": "display_data"
    }
   ],
   "source": [
    "y_pred = lr.predict(X_test)\n",
    "cm = metrics.confusion_matrix(y_test, y_pred)\n",
    "sns.heatmap(cm, annot = True, fmt = \"d\").set_title(\"Logistic Regression cm\")\n",
    "plt.show()"
   ]
  },
  {
   "cell_type": "markdown",
   "metadata": {
    "colab_type": "text",
    "id": "0ZXGAhis_gZf"
   },
   "source": [
    "* TP = 0\n",
    "* FN = 266\n",
    "* TN = 1561\n",
    "* FP = 0"
   ]
  },
  {
   "cell_type": "code",
   "execution_count": 107,
   "metadata": {
    "colab": {
     "base_uri": "https://localhost:8080/",
     "height": 34
    },
    "colab_type": "code",
    "executionInfo": {
     "elapsed": 664,
     "status": "ok",
     "timestamp": 1585314435737,
     "user": {
      "displayName": "jerome seillier",
      "photoUrl": "https://lh3.googleusercontent.com/a-/AOh14GihpJBQ6Tq4tRKpTCRGJkMirKNNmLg06aountruhg=s64",
      "userId": "00095233701872556527"
     },
     "user_tz": -60
    },
    "id": "gFeaKr60Glkw",
    "outputId": "4ddf29ce-d1e9-4dc4-e9f6-0b339ef4fbb0"
   },
   "outputs": [
    {
     "data": {
      "text/plain": [
       "(1827,)"
      ]
     },
     "execution_count": 107,
     "metadata": {},
     "output_type": "execute_result"
    }
   ],
   "source": [
    "y_pred.shape"
   ]
  },
  {
   "cell_type": "markdown",
   "metadata": {},
   "source": [
    "# Classification report"
   ]
  },
  {
   "cell_type": "code",
   "execution_count": 108,
   "metadata": {
    "colab": {
     "base_uri": "https://localhost:8080/",
     "height": 68
    },
    "colab_type": "code",
    "executionInfo": {
     "elapsed": 7242,
     "status": "ok",
     "timestamp": 1585314358183,
     "user": {
      "displayName": "jerome seillier",
      "photoUrl": "https://lh3.googleusercontent.com/a-/AOh14GihpJBQ6Tq4tRKpTCRGJkMirKNNmLg06aountruhg=s64",
      "userId": "00095233701872556527"
     },
     "user_tz": -60
    },
    "id": "ygW9POwx7H4I",
    "outputId": "b4656273-45db-46b2-d0ff-95133f553d89"
   },
   "outputs": [
    {
     "name": "stdout",
     "output_type": "stream",
     "text": [
      "lr_recall is 0.0\n",
      "lr_precision is 0.0\n",
      "lr_f1_score is 0.0\n"
     ]
    }
   ],
   "source": [
    "lr_recall = recall_score(y_test, y_pred)\n",
    "lr_precision = precision_score(y_test, y_pred)\n",
    "lr_f1 = f1_score(y_test, y_pred)\n",
    "\n",
    "print(\"lr_recall is\",(lr_recall))\n",
    "print(\"lr_precision is\",(lr_precision))\n",
    "print(\"lr_f1_score is\",(lr_precision))"
   ]
  },
  {
   "cell_type": "markdown",
   "metadata": {},
   "source": [
    "# ROC Curve"
   ]
  },
  {
   "cell_type": "code",
   "execution_count": 109,
   "metadata": {
    "colab": {
     "base_uri": "https://localhost:8080/",
     "height": 301
    },
    "colab_type": "code",
    "executionInfo": {
     "elapsed": 7672,
     "status": "ok",
     "timestamp": 1585314358618,
     "user": {
      "displayName": "jerome seillier",
      "photoUrl": "https://lh3.googleusercontent.com/a-/AOh14GihpJBQ6Tq4tRKpTCRGJkMirKNNmLg06aountruhg=s64",
      "userId": "00095233701872556527"
     },
     "user_tz": -60
    },
    "id": "CA_9GMA7fSuw",
    "outputId": "3404b36b-3c31-40b3-9fd5-90e37d83339c"
   },
   "outputs": [
    {
     "data": {
      "image/png": "[encoded data removed]",
      "text/plain": [
       "<Figure size 432x288 with 1 Axes>"
      ]
     },
     "metadata": {},
     "output_type": "display_data"
    }
   ],
   "source": [
    "from sklearn.metrics import roc_auc_score\n",
    "from sklearn.metrics import roc_curve\n",
    "\n",
    "logit_roc_auc = roc_auc_score(y_test, lr.predict(X_test))\n",
    "fpr, tpr, thresholds = roc_curve(y_test, lr.predict_proba(X_test)[:,1])\n",
    "plt.figure()\n",
    "\n",
    "plt.plot(fpr, tpr, label='Logistic Regression (area = %0.2f)' % logit_roc_auc)\n",
    "plt.plot([0, 1], [0, 1],'r--')\n",
    "\n",
    "plt.xlim([-0.05, 1.05])\n",
    "plt.ylim([-0.05, 1.05])\n",
    "\n",
    "plt.xlabel('False Positive Rate')\n",
    "plt.ylabel('True Positive Rate')\n",
    "plt.title('Receiver operating characteristic')\n",
    "plt.legend(loc=\"lower right\")\n",
    "plt.savefig('Log_ROC')\n",
    "plt.show()"
   ]
  },
  {
   "cell_type": "code",
   "execution_count": null,
   "metadata": {},
   "outputs": [],
   "source": []
  },
  {
   "cell_type": "markdown",
   "metadata": {
    "colab_type": "text",
    "id": "DnvFXNZCXu3u"
   },
   "source": [
    "# Decision tree (Income = 0 included)"
   ]
  },
  {
   "cell_type": "code",
   "execution_count": 110,
   "metadata": {
    "colab": {
     "base_uri": "https://localhost:8080/",
     "height": 51
    },
    "colab_type": "code",
    "executionInfo": {
     "elapsed": 7667,
     "status": "ok",
     "timestamp": 1585314358618,
     "user": {
      "displayName": "jerome seillier",
      "photoUrl": "https://lh3.googleusercontent.com/a-/AOh14GihpJBQ6Tq4tRKpTCRGJkMirKNNmLg06aountruhg=s64",
      "userId": "00095233701872556527"
     },
     "user_tz": -60
    },
    "id": "uyShIrdUX7sm",
    "outputId": "b69fa33b-3c97-4b25-c5fc-93605e201b4f"
   },
   "outputs": [],
   "source": [
    "from sklearn.tree import DecisionTreeClassifier\n",
    "dtc = DecisionTreeClassifier()"
   ]
  },
  {
   "cell_type": "markdown",
   "metadata": {},
   "source": [
    "## Fit the model using Training Data"
   ]
  },
  {
   "cell_type": "code",
   "execution_count": 111,
   "metadata": {},
   "outputs": [
    {
     "data": {
      "text/plain": [
       "DecisionTreeClassifier(ccp_alpha=0.0, class_weight=None, criterion='gini',\n",
       "                       max_depth=None, max_features=None, max_leaf_nodes=None,\n",
       "                       min_impurity_decrease=0.0, min_impurity_split=None,\n",
       "                       min_samples_leaf=1, min_samples_split=2,\n",
       "                       min_weight_fraction_leaf=0.0, presort='deprecated',\n",
       "                       random_state=None, splitter='best')"
      ]
     },
     "execution_count": 111,
     "metadata": {},
     "output_type": "execute_result"
    }
   ],
   "source": [
    "dtc.fit(X_train, y_train)"
   ]
  },
  {
   "cell_type": "markdown",
   "metadata": {},
   "source": [
    "## Predictions and Evaluations\n",
    "\n",
    "\n",
    "### We use the predict method to predict labels from X_test"
   ]
  },
  {
   "cell_type": "code",
   "execution_count": 112,
   "metadata": {},
   "outputs": [],
   "source": [
    "y_pred_dtc = dtc.predict(X_test)"
   ]
  },
  {
   "cell_type": "markdown",
   "metadata": {},
   "source": [
    "## Comparing test with data"
   ]
  },
  {
   "cell_type": "code",
   "execution_count": 113,
   "metadata": {},
   "outputs": [
    {
     "name": "stdout",
     "output_type": "stream",
     "text": [
      "The accuracy score for the training data is:  100.0 %\n",
      "The accuracy score for the test data is:  96.93 %\n"
     ]
    }
   ],
   "source": [
    "acc_train = dtc.score(X_train, y_train)*100\n",
    "acc_test = dtc.score(X_test,y_test)*100\n",
    "\n",
    "print(\"The accuracy score for the training data is: \",round(acc_train,2),\"%\")\n",
    "print(\"The accuracy score for the test data is: \",round(acc_test,2),\"%\")"
   ]
  },
  {
   "cell_type": "markdown",
   "metadata": {},
   "source": [
    "## Confusion Matrix"
   ]
  },
  {
   "cell_type": "code",
   "execution_count": 114,
   "metadata": {
    "colab": {
     "base_uri": "https://localhost:8080/",
     "height": 284
    },
    "colab_type": "code",
    "executionInfo": {
     "elapsed": 7887,
     "status": "ok",
     "timestamp": 1585314358843,
     "user": {
      "displayName": "jerome seillier",
      "photoUrl": "https://lh3.googleusercontent.com/a-/AOh14GihpJBQ6Tq4tRKpTCRGJkMirKNNmLg06aountruhg=s64",
      "userId": "00095233701872556527"
     },
     "user_tz": -60
    },
    "id": "m4vStDOj6NN0",
    "outputId": "c171a48f-3a3d-4c72-e0bf-f0f5c59064ff"
   },
   "outputs": [
    {
     "data": {
      "image/png": "[encoded data removed]",
      "text/plain": [
       "<Figure size 432x288 with 2 Axes>"
      ]
     },
     "metadata": {},
     "output_type": "display_data"
    }
   ],
   "source": [
    "cm = metrics.confusion_matrix(y_test, y_pred_dtc)\n",
    "sns.heatmap(cm, annot=True, fmt = \"d\").set_title(\"Decision Tree\")\n",
    "plt.show()"
   ]
  },
  {
   "cell_type": "markdown",
   "metadata": {
    "colab_type": "text",
    "id": "jV3JYA3M-VM7"
   },
   "source": [
    "* TP = 266\n",
    "* FN = 0\n",
    "* TN = 1509\n",
    "* FP = 53"
   ]
  },
  {
   "cell_type": "markdown",
   "metadata": {},
   "source": [
    "## Classification Report"
   ]
  },
  {
   "cell_type": "code",
   "execution_count": 115,
   "metadata": {
    "colab": {
     "base_uri": "https://localhost:8080/",
     "height": 68
    },
    "colab_type": "code",
    "executionInfo": {
     "elapsed": 7829,
     "status": "ok",
     "timestamp": 1585314358843,
     "user": {
      "displayName": "jerome seillier",
      "photoUrl": "https://lh3.googleusercontent.com/a-/AOh14GihpJBQ6Tq4tRKpTCRGJkMirKNNmLg06aountruhg=s64",
      "userId": "00095233701872556527"
     },
     "user_tz": -60
    },
    "id": "tUurtNsKJ8ER",
    "outputId": "d2161b5b-c987-43e2-989b-d496d093567f"
   },
   "outputs": [
    {
     "name": "stdout",
     "output_type": "stream",
     "text": [
      "dtc_recall is 0.9924812030075187\n",
      "dtc_precision is 0.8301886792452831\n",
      "dtc_f1_score is 0.8301886792452831\n"
     ]
    }
   ],
   "source": [
    "dtc_recall = recall_score(y_test, y_pred_dtc)\n",
    "dtc_precision = precision_score(y_test, y_pred_dtc)\n",
    "dtc_f1 = f1_score(y_test, y_pred_dtc)\n",
    "\n",
    "print(\"dtc_recall is\",(dtc_recall))\n",
    "print(\"dtc_precision is\",(dtc_precision))\n",
    "print(\"dtc_f1_score is\",(dtc_precision))"
   ]
  },
  {
   "cell_type": "markdown",
   "metadata": {},
   "source": [
    "## ROC Curve"
   ]
  },
  {
   "cell_type": "code",
   "execution_count": 116,
   "metadata": {
    "colab": {
     "base_uri": "https://localhost:8080/",
     "height": 301
    },
    "colab_type": "code",
    "executionInfo": {
     "elapsed": 8081,
     "status": "ok",
     "timestamp": 1585314359099,
     "user": {
      "displayName": "jerome seillier",
      "photoUrl": "https://lh3.googleusercontent.com/a-/AOh14GihpJBQ6Tq4tRKpTCRGJkMirKNNmLg06aountruhg=s64",
      "userId": "00095233701872556527"
     },
     "user_tz": -60
    },
    "id": "WQm8Qoug4GTA",
    "outputId": "54a6e9f7-c233-402a-aae7-51b9d5aa9d9f"
   },
   "outputs": [
    {
     "data": {
      "image/png": "[encoded data removed]",
      "text/plain": [
       "<Figure size 432x288 with 1 Axes>"
      ]
     },
     "metadata": {},
     "output_type": "display_data"
    }
   ],
   "source": [
    "from sklearn.metrics import roc_auc_score\n",
    "from sklearn.metrics import roc_curve\n",
    "dec_roc_auc = roc_auc_score(y_test, dtc.predict(X_test))\n",
    "fpr, tpr, thresholds = roc_curve(y_test, dtc.predict_proba(X_test)[:,1])\n",
    "\n",
    "plt.figure()\n",
    "plt.plot(fpr, tpr, label='Decision Tree (area = %0.2f)' % dec_roc_auc)\n",
    "plt.plot([0, 1], [0, 1],'r--')\n",
    "\n",
    "plt.xlim([-0.05, 1.05])\n",
    "plt.ylim([-0.05, 1.05])\n",
    "\n",
    "plt.xlabel('False Positive Rate')\n",
    "plt.ylabel('True Positive Rate')\n",
    "plt.title('Receiver operating characteristic')\n",
    "plt.legend(loc=\"lower right\")\n",
    "plt.savefig('Dec_ROC')\n",
    "plt.show()"
   ]
  },
  {
   "cell_type": "markdown",
   "metadata": {
    "colab_type": "text",
    "id": "ZEmK9dEsP82X"
   },
   "source": [
    "## Random Forest (Income = 0 Included)"
   ]
  },
  {
   "cell_type": "code",
   "execution_count": 118,
   "metadata": {
    "colab": {},
    "colab_type": "code",
    "id": "kbddB_g9QWMm"
   },
   "outputs": [],
   "source": [
    "from sklearn.metrics import confusion_matrix, accuracy_score, classification_report"
   ]
  },
  {
   "cell_type": "code",
   "execution_count": 119,
   "metadata": {
    "colab": {
     "base_uri": "https://localhost:8080/",
     "height": 51
    },
    "colab_type": "code",
    "executionInfo": {
     "elapsed": 9313,
     "status": "ok",
     "timestamp": 1585314360342,
     "user": {
      "displayName": "jerome seillier",
      "photoUrl": "https://lh3.googleusercontent.com/a-/AOh14GihpJBQ6Tq4tRKpTCRGJkMirKNNmLg06aountruhg=s64",
      "userId": "00095233701872556527"
     },
     "user_tz": -60
    },
    "id": "9oepEEQqP78s",
    "outputId": "17a6046c-5e09-4056-b89b-dc3244da47d7"
   },
   "outputs": [],
   "source": [
    "from sklearn.ensemble import RandomForestClassifier\n",
    "rfc = RandomForestClassifier()"
   ]
  },
  {
   "cell_type": "markdown",
   "metadata": {},
   "source": [
    "## Fit the model using Training Data"
   ]
  },
  {
   "cell_type": "code",
   "execution_count": 120,
   "metadata": {},
   "outputs": [
    {
     "data": {
      "text/plain": [
       "RandomForestClassifier(bootstrap=True, ccp_alpha=0.0, class_weight=None,\n",
       "                       criterion='gini', max_depth=None, max_features='auto',\n",
       "                       max_leaf_nodes=None, max_samples=None,\n",
       "                       min_impurity_decrease=0.0, min_impurity_split=None,\n",
       "                       min_samples_leaf=1, min_samples_split=2,\n",
       "                       min_weight_fraction_leaf=0.0, n_estimators=100,\n",
       "                       n_jobs=None, oob_score=False, random_state=None,\n",
       "                       verbose=0, warm_start=False)"
      ]
     },
     "execution_count": 120,
     "metadata": {},
     "output_type": "execute_result"
    }
   ],
   "source": [
    "rfc.fit(X_train, y_train)"
   ]
  },
  {
   "cell_type": "markdown",
   "metadata": {},
   "source": [
    "## Predictions and Evaluations\n",
    "\n",
    "\n",
    "### We use the predict method to predict labels from X_test"
   ]
  },
  {
   "cell_type": "code",
   "execution_count": 121,
   "metadata": {},
   "outputs": [],
   "source": [
    "y_pred_rfc = rfc.predict(X_test)"
   ]
  },
  {
   "cell_type": "markdown",
   "metadata": {},
   "source": [
    "## Comparing test with data"
   ]
  },
  {
   "cell_type": "code",
   "execution_count": 122,
   "metadata": {},
   "outputs": [
    {
     "name": "stdout",
     "output_type": "stream",
     "text": [
      "The accuracy score for the training data is:  100.0 %\n",
      "The accuracy score for the test data is:  99.73 %\n"
     ]
    }
   ],
   "source": [
    "acc_train = rfc.score(X_train, y_train)*100\n",
    "acc_test = rfc.score(X_test,y_test)*100\n",
    "\n",
    "print(\"The accuracy score for the training data is: \",round(acc_train,2),\"%\")\n",
    "print(\"The accuracy score for the test data is: \",round(acc_test,2),\"%\")"
   ]
  },
  {
   "cell_type": "markdown",
   "metadata": {},
   "source": [
    "## Confusion Matrix"
   ]
  },
  {
   "cell_type": "code",
   "execution_count": 123,
   "metadata": {
    "colab": {
     "base_uri": "https://localhost:8080/",
     "height": 284
    },
    "colab_type": "code",
    "executionInfo": {
     "elapsed": 9616,
     "status": "ok",
     "timestamp": 1585314360650,
     "user": {
      "displayName": "jerome seillier",
      "photoUrl": "https://lh3.googleusercontent.com/a-/AOh14GihpJBQ6Tq4tRKpTCRGJkMirKNNmLg06aountruhg=s64",
      "userId": "00095233701872556527"
     },
     "user_tz": -60
    },
    "id": "TX-XKsc7RtbY",
    "outputId": "81f739f6-413b-43e7-bb8e-ceace5813bb2"
   },
   "outputs": [
    {
     "data": {
      "image/png": "[encoded data removed]",
      "text/plain": [
       "<Figure size 432x288 with 2 Axes>"
      ]
     },
     "metadata": {},
     "output_type": "display_data"
    }
   ],
   "source": [
    "cm = metrics.confusion_matrix(y_test, y_pred_rfc)\n",
    "sns.heatmap(cm, annot=True, fmt = \"d\").set_title(\"Random forest\")\n",
    "plt.show()"
   ]
  },
  {
   "cell_type": "markdown",
   "metadata": {
    "colab_type": "text",
    "id": "wxxZairC49j6"
   },
   "source": [
    "* TP = 264\n",
    "* FN = 3\n",
    "* TN = 1558\n",
    "* FP = 2"
   ]
  },
  {
   "cell_type": "markdown",
   "metadata": {},
   "source": [
    "## Classification Report"
   ]
  },
  {
   "cell_type": "code",
   "execution_count": 124,
   "metadata": {
    "colab": {
     "base_uri": "https://localhost:8080/",
     "height": 68
    },
    "colab_type": "code",
    "executionInfo": {
     "elapsed": 9610,
     "status": "ok",
     "timestamp": 1585314360650,
     "user": {
      "displayName": "jerome seillier",
      "photoUrl": "https://lh3.googleusercontent.com/a-/AOh14GihpJBQ6Tq4tRKpTCRGJkMirKNNmLg06aountruhg=s64",
      "userId": "00095233701872556527"
     },
     "user_tz": -60
    },
    "id": "MnjQaKrdR0Xo",
    "outputId": "c2919e05-7e55-463d-c6be-a1e764fb117b"
   },
   "outputs": [
    {
     "name": "stdout",
     "output_type": "stream",
     "text": [
      "rfc_recall is 1.0\n",
      "rfc_precision is 0.981549815498155\n",
      "rfc_f1_score is 0.981549815498155\n"
     ]
    }
   ],
   "source": [
    "rfc_recall = recall_score(y_test, y_pred_rfc)\n",
    "rfc_precision = precision_score(y_test, y_pred_rfc)\n",
    "rfc_f1 = f1_score(y_test,y_pred_rfc)\n",
    "\n",
    "print(\"rfc_recall is\",(rfc_recall))\n",
    "print(\"rfc_precision is\",(rfc_precision))\n",
    "print(\"rfc_f1_score is\",(rfc_precision))"
   ]
  },
  {
   "cell_type": "markdown",
   "metadata": {},
   "source": [
    "## ROC Curve"
   ]
  },
  {
   "cell_type": "code",
   "execution_count": 125,
   "metadata": {
    "colab": {
     "base_uri": "https://localhost:8080/",
     "height": 301
    },
    "colab_type": "code",
    "executionInfo": {
     "elapsed": 10267,
     "status": "ok",
     "timestamp": 1585314361312,
     "user": {
      "displayName": "jerome seillier",
      "photoUrl": "https://lh3.googleusercontent.com/a-/AOh14GihpJBQ6Tq4tRKpTCRGJkMirKNNmLg06aountruhg=s64",
      "userId": "00095233701872556527"
     },
     "user_tz": -60
    },
    "id": "ZbPp4lJWBGB6",
    "outputId": "a9d12182-5f5c-482b-bed3-0d3ea0747566"
   },
   "outputs": [
    {
     "data": {
      "image/png": "[encoded data removed]",
      "text/plain": [
       "<Figure size 432x288 with 1 Axes>"
      ]
     },
     "metadata": {},
     "output_type": "display_data"
    }
   ],
   "source": [
    "from sklearn.metrics import roc_auc_score\n",
    "from sklearn.metrics import roc_curve\n",
    "rfc_roc_auc = roc_auc_score(y_test, rfc.predict(X_test))\n",
    "fpr, tpr, thresholds = roc_curve(y_test, rfc.predict_proba(X_test)[:,1])\n",
    "\n",
    "plt.figure()\n",
    "plt.plot(fpr, tpr, label='Random Forest (area = %0.2f)' % rfc_roc_auc)\n",
    "\n",
    "plt.plot([0, 1], [0, 1],'r--')\n",
    "plt.xlim([-0.05, 1.05])\n",
    "plt.ylim([-0.05, 1.05])\n",
    "\n",
    "plt.xlabel('False Positive Rate')\n",
    "plt.ylabel('True Positive Rate')\n",
    "plt.title('Receiver operating characteristic')\n",
    "plt.legend(loc=\"lower right\")\n",
    "plt.savefig('rfc_ROC')\n",
    "plt.show()"
   ]
  },
  {
   "cell_type": "markdown",
   "metadata": {
    "colab_type": "text",
    "id": "8xFo7ZiLH9P3"
   },
   "source": [
    "# Machine Learning (Income=0 excluded)"
   ]
  },
  {
   "cell_type": "markdown",
   "metadata": {
    "colab_type": "text",
    "id": "YhX7w-atgZAJ"
   },
   "source": [
    "## Logistic regression (Income = 0 excluded)"
   ]
  },
  {
   "cell_type": "code",
   "execution_count": 130,
   "metadata": {
    "colab": {},
    "colab_type": "code",
    "id": "b2OpbvCdgZAL"
   },
   "outputs": [],
   "source": [
    "y = df2_dummified[\"Response\"]"
   ]
  },
  {
   "cell_type": "code",
   "execution_count": 131,
   "metadata": {
    "colab": {},
    "colab_type": "code",
    "id": "PFRw7AlggZAO"
   },
   "outputs": [],
   "source": [
    "X = df2_dummified.drop([\"Response\"], axis=1)"
   ]
  },
  {
   "cell_type": "markdown",
   "metadata": {},
   "source": [
    "## Fit the model using Training Data & Feature Scaling"
   ]
  },
  {
   "cell_type": "code",
   "execution_count": 132,
   "metadata": {
    "colab": {},
    "colab_type": "code",
    "id": "NYEq892mgZAQ"
   },
   "outputs": [],
   "source": [
    "from sklearn.preprocessing import StandardScaler\n",
    "\n",
    "sc_x = StandardScaler()\n",
    "X = sc_x.fit_transform(X)"
   ]
  },
  {
   "cell_type": "markdown",
   "metadata": {},
   "source": [
    "## Split the Train and Test dataset"
   ]
  },
  {
   "cell_type": "code",
   "execution_count": 133,
   "metadata": {
    "colab": {},
    "colab_type": "code",
    "id": "kVS2FV6ggZAS"
   },
   "outputs": [],
   "source": [
    "X_train, X_test, y_train, y_test = train_test_split(X, y, test_size = 0.2, random_state=42)"
   ]
  },
  {
   "cell_type": "markdown",
   "metadata": {},
   "source": [
    "## Initialize the model"
   ]
  },
  {
   "cell_type": "code",
   "execution_count": 134,
   "metadata": {
    "colab": {
     "base_uri": "https://localhost:8080/",
     "height": 51
    },
    "colab_type": "code",
    "executionInfo": {
     "elapsed": 10246,
     "status": "ok",
     "timestamp": 1585314361314,
     "user": {
      "displayName": "jerome seillier",
      "photoUrl": "https://lh3.googleusercontent.com/a-/AOh14GihpJBQ6Tq4tRKpTCRGJkMirKNNmLg06aountruhg=s64",
      "userId": "00095233701872556527"
     },
     "user_tz": -60
    },
    "id": "PMVdZVN1gZAV",
    "outputId": "67c117d0-0037-48ad-d975-baf56f1bd983"
   },
   "outputs": [],
   "source": [
    "from sklearn.linear_model import LogisticRegression\n",
    "lr = LogisticRegression()"
   ]
  },
  {
   "cell_type": "markdown",
   "metadata": {},
   "source": [
    "## Fit the model to the train set"
   ]
  },
  {
   "cell_type": "code",
   "execution_count": 135,
   "metadata": {},
   "outputs": [
    {
     "data": {
      "text/plain": [
       "LogisticRegression(C=1.0, class_weight=None, dual=False, fit_intercept=True,\n",
       "                   intercept_scaling=1, l1_ratio=None, max_iter=100,\n",
       "                   multi_class='auto', n_jobs=None, penalty='l2',\n",
       "                   random_state=None, solver='lbfgs', tol=0.0001, verbose=0,\n",
       "                   warm_start=False)"
      ]
     },
     "execution_count": 135,
     "metadata": {},
     "output_type": "execute_result"
    }
   ],
   "source": [
    "lr.fit(X_train, y_train)"
   ]
  },
  {
   "cell_type": "markdown",
   "metadata": {},
   "source": [
    "## Predictions and Evaluations\n",
    "\n",
    "\n",
    "### We use the predict method to predict labels from X_test"
   ]
  },
  {
   "cell_type": "code",
   "execution_count": 136,
   "metadata": {},
   "outputs": [],
   "source": [
    "y_pred_lr = lr.predict(X_test)"
   ]
  },
  {
   "cell_type": "markdown",
   "metadata": {},
   "source": [
    "## Comparing test with the data"
   ]
  },
  {
   "cell_type": "code",
   "execution_count": 137,
   "metadata": {},
   "outputs": [
    {
     "name": "stdout",
     "output_type": "stream",
     "text": [
      "Logistic Regression Test Accuracy 85.19 %\n",
      "Logistic Regression Train Accuracy 85.15 %\n"
     ]
    }
   ],
   "source": [
    "lr_acc_test = lr.score(X_test,y_test)*100\n",
    "lr_acc_train = lr.score(X_train,y_train)*100\n",
    "\n",
    "print(\"Logistic Regression Test Accuracy\", round(lr_acc_test, 2),\"%\")\n",
    "print(\"Logistic Regression Train Accuracy\", round(lr_acc_train, 2),\"%\")"
   ]
  },
  {
   "cell_type": "markdown",
   "metadata": {},
   "source": [
    "## Confusion Matrix"
   ]
  },
  {
   "cell_type": "code",
   "execution_count": 138,
   "metadata": {
    "colab": {
     "base_uri": "https://localhost:8080/",
     "height": 284
    },
    "colab_type": "code",
    "executionInfo": {
     "elapsed": 10242,
     "status": "ok",
     "timestamp": 1585314361315,
     "user": {
      "displayName": "jerome seillier",
      "photoUrl": "https://lh3.googleusercontent.com/a-/AOh14GihpJBQ6Tq4tRKpTCRGJkMirKNNmLg06aountruhg=s64",
      "userId": "00095233701872556527"
     },
     "user_tz": -60
    },
    "id": "my18_FSVCFs2",
    "outputId": "85aed4e0-fa66-40d7-ce32-e1d7c414ab0f"
   },
   "outputs": [
    {
     "data": {
      "image/png": "[encoded data removed]",
      "text/plain": [
       "<Figure size 432x288 with 2 Axes>"
      ]
     },
     "metadata": {},
     "output_type": "display_data"
    }
   ],
   "source": [
    "cm = metrics.confusion_matrix(y_test, y_pred_lr)\n",
    "sns.heatmap(cm, annot=True, fmt=\"d\").set_title(\"Logistic regression cm\")\n",
    "plt.show()"
   ]
  },
  {
   "cell_type": "markdown",
   "metadata": {
    "colab_type": "text",
    "id": "W3Jd07-TAq1d"
   },
   "source": [
    "* TP = 32\n",
    "* FN = 195\n",
    "* TN = 1130\n",
    "* FP = 7"
   ]
  },
  {
   "cell_type": "markdown",
   "metadata": {},
   "source": [
    "## Classification Report"
   ]
  },
  {
   "cell_type": "code",
   "execution_count": 139,
   "metadata": {
    "colab": {
     "base_uri": "https://localhost:8080/",
     "height": 68
    },
    "colab_type": "code",
    "executionInfo": {
     "elapsed": 10237,
     "status": "ok",
     "timestamp": 1585314361315,
     "user": {
      "displayName": "jerome seillier",
      "photoUrl": "https://lh3.googleusercontent.com/a-/AOh14GihpJBQ6Tq4tRKpTCRGJkMirKNNmLg06aountruhg=s64",
      "userId": "00095233701872556527"
     },
     "user_tz": -60
    },
    "id": "LF9rZtW8gZAb",
    "outputId": "59c4d48d-6dd7-49d5-842f-9ea06b2cde1d"
   },
   "outputs": [
    {
     "name": "stdout",
     "output_type": "stream",
     "text": [
      "lr_recall is 0.14096916299559473\n",
      "lr_precision is 0.8205128205128205\n",
      "lr_f1 score is 0.2406015037593985\n"
     ]
    }
   ],
   "source": [
    "lr_recall = recall_score(y_test, y_pred_lr)\n",
    "lr_precision = precision_score(y_test, y_pred_lr)\n",
    "lr_f1 = f1_score(y_test,y_pred_lr)\n",
    "\n",
    "print(\"lr_recall is\",(lr_recall))\n",
    "print(\"lr_precision is\",(lr_precision))\n",
    "print(\"lr_f1 score is\",(lr_f1))"
   ]
  },
  {
   "cell_type": "markdown",
   "metadata": {},
   "source": [
    "## ROC Curve"
   ]
  },
  {
   "cell_type": "code",
   "execution_count": 140,
   "metadata": {
    "colab": {
     "base_uri": "https://localhost:8080/",
     "height": 301
    },
    "colab_type": "code",
    "executionInfo": {
     "elapsed": 10904,
     "status": "ok",
     "timestamp": 1585314361987,
     "user": {
      "displayName": "jerome seillier",
      "photoUrl": "https://lh3.googleusercontent.com/a-/AOh14GihpJBQ6Tq4tRKpTCRGJkMirKNNmLg06aountruhg=s64",
      "userId": "00095233701872556527"
     },
     "user_tz": -60
    },
    "id": "IPIhRaxKDwuF",
    "outputId": "65da0af1-82f7-41cc-85ce-349bc013dc56"
   },
   "outputs": [
    {
     "data": {
      "image/png": "[encoded data removed]",
      "text/plain": [
       "<Figure size 432x288 with 1 Axes>"
      ]
     },
     "metadata": {},
     "output_type": "display_data"
    }
   ],
   "source": [
    "from sklearn.metrics import roc_auc_score\n",
    "from sklearn.metrics import roc_curve\n",
    "logit_roc_auc = roc_auc_score(y_test, lr.predict(X_test))\n",
    "fpr, tpr, thresholds = roc_curve(y_test, lr.predict_proba(X_test)[:,1])\n",
    "plt.figure()\n",
    "plt.plot(fpr, tpr, label='Logistic Regression (area = %0.2f)' % logit_roc_auc)\n",
    "plt.plot([0, 1], [0, 1],'r--')\n",
    "plt.xlim([-0.05, 1.05])\n",
    "plt.ylim([-0.05, 1.05])\n",
    "plt.xlabel('False Positive Rate')\n",
    "plt.ylabel('True Positive Rate')\n",
    "plt.title('Receiver operating characteristic')\n",
    "plt.legend(loc=\"lower right\")\n",
    "plt.savefig('Log_ROC')\n",
    "plt.show()"
   ]
  },
  {
   "cell_type": "markdown",
   "metadata": {
    "colab_type": "text",
    "id": "yT0nzgw0DxFd"
   },
   "source": [
    "## Decision tree (Income = 0 excluded)"
   ]
  },
  {
   "cell_type": "code",
   "execution_count": 115,
   "metadata": {
    "colab": {
     "base_uri": "https://localhost:8080/",
     "height": 51
    },
    "colab_type": "code",
    "executionInfo": {
     "elapsed": 10900,
     "status": "ok",
     "timestamp": 1585314361988,
     "user": {
      "displayName": "jerome seillier",
      "photoUrl": "https://lh3.googleusercontent.com/a-/AOh14GihpJBQ6Tq4tRKpTCRGJkMirKNNmLg06aountruhg=s64",
      "userId": "00095233701872556527"
     },
     "user_tz": -60
    },
    "id": "2RXS91MiDxFg",
    "outputId": "349c606f-76cd-444c-bdb5-d1a5676dd78c"
   },
   "outputs": [
    {
     "name": "stdout",
     "output_type": "stream",
     "text": [
      "The accuracy score for the training data is:  100.0 %\n",
      "The accuracy score for the test data is:  96.55 %\n"
     ]
    }
   ],
   "source": [
    "from sklearn.tree import DecisionTreeClassifier\n",
    "dtc = DecisionTreeClassifier()\n",
    "dtc.fit(X_train, y_train)\n",
    "\n",
    "y_pred_dtc = dtc.predict(X_test)\n",
    "\n",
    "acc_train = dtc.score(X_train, y_train)*100\n",
    "acc_test = dtc.score(X_test,y_test)*100\n",
    "\n",
    "print(\"The accuracy score for the training data is: \",round(acc_train,2),\"%\")\n",
    "print(\"The accuracy score for the test data is: \",round(acc_test,2),\"%\")\n"
   ]
  },
  {
   "cell_type": "code",
   "execution_count": 116,
   "metadata": {
    "colab": {
     "base_uri": "https://localhost:8080/",
     "height": 284
    },
    "colab_type": "code",
    "executionInfo": {
     "elapsed": 11101,
     "status": "ok",
     "timestamp": 1585314362194,
     "user": {
      "displayName": "jerome seillier",
      "photoUrl": "https://lh3.googleusercontent.com/a-/AOh14GihpJBQ6Tq4tRKpTCRGJkMirKNNmLg06aountruhg=s64",
      "userId": "00095233701872556527"
     },
     "user_tz": -60
    },
    "id": "VZf8isH2NGmJ",
    "outputId": "472921e0-fb91-48f9-dba5-bf760ea1d708"
   },
   "outputs": [
    {
     "data": {
      "image/png": "[encoded data removed]",
      "text/plain": [
       "<Figure size 432x288 with 2 Axes>"
      ]
     },
     "metadata": {
      "tags": []
     },
     "output_type": "display_data"
    }
   ],
   "source": [
    "cm = metrics.confusion_matrix(y_test, y_pred_dtc)\n",
    "sns.heatmap(cm, annot=True, fmt=\"d\").set_title(\"Decision Tree\")\n",
    "plt.show()"
   ]
  },
  {
   "cell_type": "markdown",
   "metadata": {
    "colab_type": "text",
    "id": "NWGw-SlQDxFo"
   },
   "source": [
    "* TP = 227\n",
    "* FN = 2\n",
    "* TN = 1086\n",
    "* FP = 51"
   ]
  },
  {
   "cell_type": "code",
   "execution_count": 117,
   "metadata": {
    "colab": {
     "base_uri": "https://localhost:8080/",
     "height": 68
    },
    "colab_type": "code",
    "executionInfo": {
     "elapsed": 11094,
     "status": "ok",
     "timestamp": 1585314362194,
     "user": {
      "displayName": "jerome seillier",
      "photoUrl": "https://lh3.googleusercontent.com/a-/AOh14GihpJBQ6Tq4tRKpTCRGJkMirKNNmLg06aountruhg=s64",
      "userId": "00095233701872556527"
     },
     "user_tz": -60
    },
    "id": "dt1soVAUWDaK",
    "outputId": "a99ec799-0998-4cf3-ecb5-8b20fdab0245"
   },
   "outputs": [
    {
     "name": "stdout",
     "output_type": "stream",
     "text": [
      "dtc_recall is 1.0\n",
      "dtc_precision is 0.8284671532846716\n",
      "dtc_f1 score is 0.9061876247504991\n"
     ]
    }
   ],
   "source": [
    "dtc_recall = recall_score(y_test, y_pred_dtc)\n",
    "dtc_precision = precision_score(y_test,y_pred_dtc)\n",
    "dtc_f1 = f1_score(y_test,y_pred_dtc)\n",
    "\n",
    "print(\"dtc_recall is\",(dtc_recall))\n",
    "print(\"dtc_precision is\",(dtc_precision))\n",
    "print(\"dtc_f1 score is\",(dtc_f1))"
   ]
  },
  {
   "cell_type": "code",
   "execution_count": 118,
   "metadata": {
    "colab": {
     "base_uri": "https://localhost:8080/",
     "height": 301
    },
    "colab_type": "code",
    "executionInfo": {
     "elapsed": 11643,
     "status": "ok",
     "timestamp": 1585314362747,
     "user": {
      "displayName": "jerome seillier",
      "photoUrl": "https://lh3.googleusercontent.com/a-/AOh14GihpJBQ6Tq4tRKpTCRGJkMirKNNmLg06aountruhg=s64",
      "userId": "00095233701872556527"
     },
     "user_tz": -60
    },
    "id": "TGOZWqXlDxFp",
    "outputId": "bc2c1045-02e0-4a0c-f4b6-c94e44aefe47"
   },
   "outputs": [
    {
     "data": {
      "image/png": "[encoded data removed]",
      "text/plain": [
       "<Figure size 432x288 with 1 Axes>"
      ]
     },
     "metadata": {
      "tags": []
     },
     "output_type": "display_data"
    }
   ],
   "source": [
    "from sklearn.metrics import roc_auc_score\n",
    "from sklearn.metrics import roc_curve\n",
    "dec_roc_auc = roc_auc_score(y_test, dtc.predict(X_test))\n",
    "fpr, tpr, thresholds = roc_curve(y_test, dtc.predict_proba(X_test)[:,1])\n",
    "plt.figure()\n",
    "plt.plot(fpr, tpr, label='Decision Tree (area = %0.2f)' % dec_roc_auc)\n",
    "plt.plot([0, 1], [0, 1],'r--')\n",
    "plt.xlim([-0.05, 1.05])\n",
    "plt.ylim([-0.05, 1.05])\n",
    "plt.xlabel('False Positive Rate')\n",
    "plt.ylabel('True Positive Rate')\n",
    "plt.title('Receiver operating characteristic')\n",
    "plt.legend(loc=\"lower right\")\n",
    "plt.savefig('Dec_ROC')\n",
    "plt.show()"
   ]
  },
  {
   "cell_type": "markdown",
   "metadata": {
    "colab_type": "text",
    "id": "C9EttWlOIMQ7"
   },
   "source": [
    "## Random Forest (Income = 0 Included)"
   ]
  },
  {
   "cell_type": "code",
   "execution_count": 141,
   "metadata": {
    "colab": {},
    "colab_type": "code",
    "id": "9STGaakvIMQ9"
   },
   "outputs": [],
   "source": [
    "from sklearn.metrics import confusion_matrix, accuracy_score, classification_report"
   ]
  },
  {
   "cell_type": "markdown",
   "metadata": {},
   "source": [
    "## Initialize the model"
   ]
  },
  {
   "cell_type": "code",
   "execution_count": 142,
   "metadata": {
    "colab": {
     "base_uri": "https://localhost:8080/",
     "height": 51
    },
    "colab_type": "code",
    "executionInfo": {
     "elapsed": 12433,
     "status": "ok",
     "timestamp": 1585314363547,
     "user": {
      "displayName": "jerome seillier",
      "photoUrl": "https://lh3.googleusercontent.com/a-/AOh14GihpJBQ6Tq4tRKpTCRGJkMirKNNmLg06aountruhg=s64",
      "userId": "00095233701872556527"
     },
     "user_tz": -60
    },
    "id": "t6ymWICDIMRA",
    "outputId": "812b26c5-6e94-450a-8d11-7f3b76c511b2"
   },
   "outputs": [],
   "source": [
    "from sklearn.ensemble import RandomForestClassifier\n",
    "rfc = RandomForestClassifier()"
   ]
  },
  {
   "cell_type": "markdown",
   "metadata": {},
   "source": [
    "## Fit the model to train dataset"
   ]
  },
  {
   "cell_type": "code",
   "execution_count": 143,
   "metadata": {},
   "outputs": [
    {
     "data": {
      "text/plain": [
       "RandomForestClassifier(bootstrap=True, ccp_alpha=0.0, class_weight=None,\n",
       "                       criterion='gini', max_depth=None, max_features='auto',\n",
       "                       max_leaf_nodes=None, max_samples=None,\n",
       "                       min_impurity_decrease=0.0, min_impurity_split=None,\n",
       "                       min_samples_leaf=1, min_samples_split=2,\n",
       "                       min_weight_fraction_leaf=0.0, n_estimators=100,\n",
       "                       n_jobs=None, oob_score=False, random_state=None,\n",
       "                       verbose=0, warm_start=False)"
      ]
     },
     "execution_count": 143,
     "metadata": {},
     "output_type": "execute_result"
    }
   ],
   "source": [
    "rfc.fit(X_train, y_train)"
   ]
  },
  {
   "cell_type": "markdown",
   "metadata": {},
   "source": [
    "## Predictions and Evaluations\n",
    "\n",
    "\n",
    "### We use the predict method to predict labels from X_test"
   ]
  },
  {
   "cell_type": "code",
   "execution_count": 144,
   "metadata": {},
   "outputs": [],
   "source": [
    "y_pred_rfc = rfc.predict(X_test)"
   ]
  },
  {
   "cell_type": "markdown",
   "metadata": {},
   "source": [
    "## Comparing test with data"
   ]
  },
  {
   "cell_type": "code",
   "execution_count": 145,
   "metadata": {},
   "outputs": [
    {
     "name": "stdout",
     "output_type": "stream",
     "text": [
      "The accuracy score for the training data is:  100.0 %\n",
      "The accuracy score for the test data is:  99.49 %\n"
     ]
    }
   ],
   "source": [
    "acc_train = rfc.score(X_train, y_train)*100\n",
    "acc_test = rfc.score(X_test,y_test)*100\n",
    "\n",
    "print(\"The accuracy score for the training data is: \",round(acc_train,2),\"%\")\n",
    "print(\"The accuracy score for the test data is: \",round(acc_test,2),\"%\")"
   ]
  },
  {
   "cell_type": "markdown",
   "metadata": {},
   "source": [
    "## Confusion Matrix"
   ]
  },
  {
   "cell_type": "code",
   "execution_count": 146,
   "metadata": {
    "colab": {
     "base_uri": "https://localhost:8080/",
     "height": 284
    },
    "colab_type": "code",
    "executionInfo": {
     "elapsed": 12722,
     "status": "ok",
     "timestamp": 1585314363841,
     "user": {
      "displayName": "jerome seillier",
      "photoUrl": "https://lh3.googleusercontent.com/a-/AOh14GihpJBQ6Tq4tRKpTCRGJkMirKNNmLg06aountruhg=s64",
      "userId": "00095233701872556527"
     },
     "user_tz": -60
    },
    "id": "SbRM6eXyNbta",
    "outputId": "42f75c33-7680-476b-f38b-14e95b0c8606"
   },
   "outputs": [
    {
     "data": {
      "image/png": "[encoded data removed]",
      "text/plain": [
       "<Figure size 432x288 with 2 Axes>"
      ]
     },
     "metadata": {},
     "output_type": "display_data"
    }
   ],
   "source": [
    "cm = metrics.confusion_matrix(y_test, y_pred_rfc)\n",
    "sns.heatmap(cm, annot=True, fmt=\"d\").set_title(\"Random forest\")\n",
    "plt.show()"
   ]
  },
  {
   "cell_type": "markdown",
   "metadata": {
    "colab_type": "text",
    "id": "tMCYxG-3NgyI"
   },
   "source": [
    "* TP = 264\n",
    "* FN = 3\n",
    "* TN = 1558\n",
    "* FP = 2"
   ]
  },
  {
   "cell_type": "markdown",
   "metadata": {},
   "source": [
    "## Classification Report"
   ]
  },
  {
   "cell_type": "code",
   "execution_count": 147,
   "metadata": {
    "colab": {
     "base_uri": "https://localhost:8080/",
     "height": 68
    },
    "colab_type": "code",
    "executionInfo": {
     "elapsed": 12717,
     "status": "ok",
     "timestamp": 1585314363841,
     "user": {
      "displayName": "jerome seillier",
      "photoUrl": "https://lh3.googleusercontent.com/a-/AOh14GihpJBQ6Tq4tRKpTCRGJkMirKNNmLg06aountruhg=s64",
      "userId": "00095233701872556527"
     },
     "user_tz": -60
    },
    "id": "7Asg13K2XZtd",
    "outputId": "3b97ffcb-be45-47f3-9df4-2d9fe5048404"
   },
   "outputs": [
    {
     "name": "stdout",
     "output_type": "stream",
     "text": [
      "rfc_recall is 1.0\n",
      "rfc_precision is 0.97\n",
      "rfc_f1 score is 0.98\n"
     ]
    }
   ],
   "source": [
    "rfc_recall = recall_score(y_test, y_pred_rfc)\n",
    "rfc_precision = precision_score(y_test,y_pred_rfc)\n",
    "rfc_f1 = f1_score(y_test,y_pred_rfc)\n",
    "\n",
    "print(\"rfc_recall is\",round(rfc_recall,2))\n",
    "print(\"rfc_precision is\",round(rfc_precision,2))\n",
    "print(\"rfc_f1 score is\",round(rfc_f1,2))"
   ]
  },
  {
   "cell_type": "markdown",
   "metadata": {},
   "source": [
    "## ROC Curve"
   ]
  },
  {
   "cell_type": "code",
   "execution_count": 148,
   "metadata": {
    "colab": {
     "base_uri": "https://localhost:8080/",
     "height": 301
    },
    "colab_type": "code",
    "executionInfo": {
     "elapsed": 13516,
     "status": "ok",
     "timestamp": 1585314364646,
     "user": {
      "displayName": "jerome seillier",
      "photoUrl": "https://lh3.googleusercontent.com/a-/AOh14GihpJBQ6Tq4tRKpTCRGJkMirKNNmLg06aountruhg=s64",
      "userId": "00095233701872556527"
     },
     "user_tz": -60
    },
    "id": "mHqxYFQiNjyq",
    "outputId": "17427eca-db5c-4299-d489-f348df760612"
   },
   "outputs": [
    {
     "data": {
      "image/png": "[encoded data removed]",
      "text/plain": [
       "<Figure size 432x288 with 1 Axes>"
      ]
     },
     "metadata": {},
     "output_type": "display_data"
    }
   ],
   "source": [
    "from sklearn.metrics import roc_auc_score\n",
    "from sklearn.metrics import roc_curve\n",
    "rfc_roc_auc = roc_auc_score(y_test, rfc.predict(X_test))\n",
    "fpr, tpr, thresholds = roc_curve(y_test, rfc.predict_proba(X_test)[:,1])\n",
    "\n",
    "plt.figure()\n",
    "plt.plot(fpr, tpr, label='Random Forest (area = %0.2f)' % dec_roc_auc)\n",
    "plt.plot([0, 1], [0, 1],'r--')\n",
    "\n",
    "plt.xlim([-0.05, 1.05])\n",
    "plt.ylim([-0.05, 1.05])\n",
    "\n",
    "plt.xlabel('False Positive Rate')\n",
    "plt.ylabel('True Positive Rate')\n",
    "plt.title('Receiver operating characteristic')\n",
    "plt.legend(loc=\"lower right\")\n",
    "plt.savefig('Dec_ROC')\n",
    "plt.show()"
   ]
  },
  {
   "cell_type": "code",
   "execution_count": null,
   "metadata": {},
   "outputs": [],
   "source": []
  }
 ],
 "metadata": {
  "colab": {
   "authorship_tag": "ABX9TyOwkWlB8NTasN8FydZhhgeC",
   "collapsed_sections": [
    "fCYmh0f9I5Sq"
   ],
   "name": "Projet_Conversion_imbalanced.ipynb",
   "provenance": [],
   "toc_visible": true
  },
  "kernelspec": {
   "display_name": "Python 3",
   "language": "python",
   "name": "python3"
  },
  "language_info": {
   "codemirror_mode": {
    "name": "ipython",
    "version": 3
   },
   "file_extension": ".py",
   "mimetype": "text/x-python",
   "name": "python",
   "nbconvert_exporter": "python",
   "pygments_lexer": "ipython3",
   "version": "3.7.6"
  }
 },
 "nbformat": 4,
 "nbformat_minor": 1
}
